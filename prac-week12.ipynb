{
 "cells": [
  {
   "cell_type": "markdown",
   "metadata": {},
   "source": [
    "\n",
    "# INFS7410 Week 12 Practical\n",
    "\n",
    "##### version 1.0\n",
    "\n",
    "###### The INFS7410 Teaching Team\n",
    "\n",
    "##### Tutorial Etiquette:\n",
    "*Please refrain from loud noises, irrelevant conversations and use of mobile phones during practical activities. Be respectful of everyone's opinions and ideas during the practical activities. You will be asked to leave if you disturb. Remember the tutor is there to help you understand and learn, not to provide debugging of your code or solutions to assignments.*\n",
    "\n",
    "\n",
    "---\n",
    "\n",
    "### About today's Practical\n",
    "In this week's practical, you will be learning about and implementing PageRank. You just need to implection the `pagerank` function.\n",
    "\n",
    "## Exercise 1: PageRank\n",
    "\n",
    "In this week's lecture we discussed methods for link analysis, i.e. the analysis of links between documents -- in particular in the context of web pages and how this can be integrated for web search.\n",
    "\n",
    "One of the peculiar features of Web pages is in fact the presence of links: references to a specific target web page from the considered web page. Links from the considered page to another are called out-links; links to the considered page are called in-links. One very important intuition that radically changed commercial web search engines in the late 90s is the exploitation of these links between web pages, and in particular of in-links. The idea is that in-links can provide a feedback about the quality of the web pages. Think about this: if a web page is linked by many pages, then it may mean it is an important page. If it is linked by other important pages, then it means it is even more important and authorative. \n",
    "\n",
    "PageRank is the most popular and well known algorithm for link analysis that exploits link information between web pages. PageRank is based on the concept of the random surfer: when browsing the web, the random surfer will follow the links between web pages with a certain probability, and jump to a random web page (without following the links) the remaining times. This is implemented as follows. Every time the user decides to leave a page, a random number $r$ is produced; if $r < \\lambda$ the user jumps to a random web page (the idea of having a \"surprise me\" button); if  $r \\ge \\lambda$ the user clicks and follows a link on the current web page (will pick a random link from the page). This process is repeated for each iteration of the algorithm, and theoritically to infinity (in reality, the algorithm will converge well before). Typically $\\lambda$ is a small number (e.g. 0.15). \n",
    "\n",
    "Because of the \"surprise me\" button (the jump to a random web page, not linked to the current page -- this is also called teleportation or dampening factor), we can guarantee that eventually the user will visit all the web pages. This also avoids having the algorithm becoming stuck in pages that have no out-links, or pages that are in a \"island\" of the web (i.e. a disconnected graph). \n",
    "\n",
    "Given this browsing behaviour, we can compute the probability that the user is at a specific web page if we happen to observe her: this probability is the PageRank of the page. \n",
    "\n",
    "Formally, the PageRank for a web page $u$ is computed as:\n",
    "\n",
    "$$PR(u) = \\frac{\\lambda}{N} + (1-\\lambda) \\cdot \\sum_{v \\in B_u} \\frac{PR(v)}{L_v}$$\n",
    "\n",
    "where:\n",
    "\n",
    "* $N$ is the number of web pages in the considered web graph\n",
    "* $\\lambda$ is the teleportation probability/dampening factor\n",
    "* $B_u$ is the set of pages that point to page $u$, i.e. the in-links for page $u$ \n",
    "* $L_v$ is the number of out-links from page $v$ (not counting duplicate links)\n",
    "\n",
    "As you see, the PageRank for page $u$ depends upon the PageRank of page $v$, and actually, all the PageRank scores of the pages that point to $u$ ($u$'s in-links). This makes this algorithm iterative, and we will consider first initialising the PageRank values of every page to a random number (e.g. 1), and then iteratively refine this value to obtain the correct PageRank. This iterative process will stop after the PageRank scores have converged (i.e. they do not change anymore - or don't change more than an error tolerance threshold $\\epsilon$), or a maximum number of iterations has been performed.\n",
    "\n",
    "While PageRank is defined in the equation above recursively, it can be programmed iteratively using matrix multiplication. In this exercise, you need to implement the `pagerank` method:\n"
   ]
  },
  {
   "cell_type": "code",
   "execution_count": 24,
   "metadata": {},
   "outputs": [
    {
     "ename": "IndentationError",
     "evalue": "unexpected indent (<ipython-input-24-ec7b1e1c0e5d>, line 32)",
     "output_type": "error",
     "traceback": [
      "\u001b[0;36m  File \u001b[0;32m\"<ipython-input-24-ec7b1e1c0e5d>\"\u001b[0;36m, line \u001b[0;32m32\u001b[0m\n\u001b[0;31m    num_out = 0\u001b[0m\n\u001b[0m    ^\u001b[0m\n\u001b[0;31mIndentationError\u001b[0m\u001b[0;31m:\u001b[0m unexpected indent\n"
     ]
    }
   ],
   "source": [
    "def pagerank(pages, lam, eps):\n",
    "    \"\"\"Compute PageRank algorithm.\n",
    "    Parameters\n",
    "    ----------\n",
    "    pages :2D List\n",
    "        Adjacency matrix where M_{i,j} represents the link\n",
    "        from j to i, such that for all j sum(i, M_i,j) = 1.\n",
    "    lam : float\n",
    "        Dampening factor.\n",
    "    eps : float\n",
    "        Error tolerance threshold to check for convergence.\n",
    "    Returns\n",
    "    -------\n",
    "    List\n",
    "        A vector of pagerank ranking scores.\n",
    "    \"\"\"\n",
    "    # TODO\n",
    "    N = len(pages)\n",
    "    pageranks = []\n",
    "    \n",
    "    for i in range(0, N):\n",
    "        result = 0\n",
    "        scores = []\n",
    "        in_score = 0\n",
    "        for j in range(0, N):\n",
    "            if pages[j][i] != 0:\n",
    "                in_score = in_score + pages[j][i]\n",
    "                scores.append(in_score)\n",
    "        sums = 0\n",
    "        for j in range(0, N):\n",
    "            outs = pages[j]\n",
    "                num_out = 0\n",
    "                for out in outs:\n",
    "                    if out != 0:\n",
    "                        num_out = num_out + 1\n",
    "            sums = sums + scores[j]/num_out\n",
    "        pr = lam/N + (1-lam)*sums\n",
    "        pageranks.append(pr)\n",
    "    \n",
    "    return pageranks"
   ]
  },
  {
   "cell_type": "markdown",
   "metadata": {},
   "source": [
    "The `pages` variable holds a matrix of pages describing the in-links and out-links. Each column represents the out-links and rows represent the in-links. Note that the out-links are weighted, and sum to 1. The result of your implementation should be a vector containing the PageRank score for each page in the matrix. The components in this vector should also sum to 1."
   ]
  },
  {
   "cell_type": "code",
   "execution_count": 23,
   "metadata": {},
   "outputs": [
    {
     "name": "stdout",
     "output_type": "stream",
     "text": [
      "[1.305, 0.45499999999999996, 0.56125, 0.45499999999999996, 0.88]\n",
      "3.65625\n",
      "5\n"
     ]
    }
   ],
   "source": [
    "import numpy as np\n",
    "\n",
    "pages = [[0, 0, 0, 0, 1],\n",
    "        [0.5, 0, 0, 0, 0],\n",
    "        [0.5, 0, 0, 0, 0],\n",
    "        [0, 1, 0.5, 0, 0],\n",
    "        [0, 0, 0.5, 1, 0]]\n",
    "\n",
    "lam = 0.15\n",
    "epsilon = 1.0e-6\n",
    "\n",
    "ranking = pagerank(pages, lam, epsilon)\n",
    "print(ranking)\n",
    "print(np.sum(ranking))\n",
    "print(len(pages))\n"
   ]
  },
  {
   "cell_type": "code",
   "execution_count": null,
   "metadata": {},
   "outputs": [],
   "source": []
  }
 ],
 "metadata": {
  "kernelspec": {
   "display_name": "Python 3",
   "language": "python",
   "name": "python3"
  },
  "language_info": {
   "codemirror_mode": {
    "name": "ipython",
    "version": 3
   },
   "file_extension": ".py",
   "mimetype": "text/x-python",
   "name": "python",
   "nbconvert_exporter": "python",
   "pygments_lexer": "ipython3",
   "version": "3.7.10"
  },
  "pycharm": {
   "stem_cell": {
    "cell_type": "raw",
    "metadata": {
     "collapsed": false
    },
    "source": []
   }
  }
 },
 "nbformat": 4,
 "nbformat_minor": 1
}
