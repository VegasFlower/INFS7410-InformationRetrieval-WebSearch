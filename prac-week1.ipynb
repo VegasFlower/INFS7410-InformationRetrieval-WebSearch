{
 "cells": [
  {
   "cell_type": "markdown",
   "metadata": {},
   "source": [
    "\n",
    "# Week 1 Practical\n",
    "\n",
    "##### version 1.0\n",
    "\n",
    "###### The INFS7410 Teaching Team\n",
    "\n",
    "---\n",
    "\n",
    "Welcome to INFS7410! \n",
    "\n",
    "The content of this course includes hands-on activities to better understand information retrieval methods and technology. The practical classes aim to introduce you to concepts in a hands-on manner, while the online lectures aim to introduce these concepts with the underlying theories, and the live Q/A lecture session aims to discuss questions and exercises about the week's lecture content. \n",
    "\n",
    "The prac will run online as a computer lab, where learning will happen by doing, rather than listening.\n",
    "\n",
    "**You will need to program in this course.** Please keep in mind that we assume you know how to program, and that you have familiarity with programming languages like Python. In particular, most of the code we will show you in this course is in **Python**, and the scaffolding we will provide you for the project assignments is in Python. *If this course is your first shot at developing a software project, then you may want to reconsider whether you will have a fair go at successfully completing the learning activities the course will offer.* \n",
    "Note, you may be a proficient programmer and software engineer, but not know Python. This is generally fine: you should be able to rapidly pick up a new language. \n",
    "\n",
    "In addition, we use Jupyter notebooks for the pracs and assignments; if you never used notebooks before, don't worry, it is easy, and you can check out this [tutorial](https://www.dataquest.io/blog/jupyter-notebook-tutorial/) before you start this exercise.\n",
    "\n",
    "Note: Whenever you see `# TODO` in a cell, then it is an exercise you need to code.\n",
    "\n",
    "**You will need to use the command-line in this course.** Along with being able to program, we expect you know how to interact with the command line tool, for example to operate on the file system, to script simple routines and so on. \n",
    "\n",
    "\n",
    "As a side note: we also expect you understand *Maths* and are confident writing and deriving equations, along with translating equation into algorithms and code. Maths will mostly appear during the lectures, but the pracs will also include Maths expressions when relevant. \n",
    "\n",
    "\n",
    "##### About today's prac\n",
    "In this prac you will learn about text analysis and indexing. Specifically, you will learn how to use Pyserini to index a collection of data (this will be the same collection we will use throughout many of the pracs, and in the assignments) and the Zipf's Law. There are two exercises to complete.\n",
    "\n",
    "The first exercise will have you exploring indexing with Pyserini. You will convert the raw collection into JSON, and then use Pyserini commands to create an index of the collection. Then, you will learn how to use the Pyserini index APIs to access the statistics of the index.\n",
    "\n",
    "The second exercise explores the Zipf's Law. The Zipf's Law expresses an empirical relationship between the frequencies of words in a text collection, and the rank of each term if terms were ordered by decreasing frequency. Rather than re-telling you the law, we want to have you derive the empirical relation.\n",
    "\n",
    "##### Prac Etiquette\n",
    "This prac runs over Zoom. Please refrain from irrelevant conversations during prac activities. Be respectful of everyone's opinions and ideas during the prac activities. You will be asked to leave if you disturb. Remember the tutor is there to help you understand and learn, not to provide debugging of your code or solutions to assignments. "
   ]
  },
  {
   "cell_type": "markdown",
   "metadata": {},
   "source": [
    "---\n",
    "\n",
    "# Exercise 1: Indexing the collection\n",
    "\n",
    "Lets first get some ideas of what our collection looks like. The code below will print out the first 10 lines in our raw collection.\n",
    "(Note, to run the snippet of code below may take up to 1 minute, as it will load the whole file in memory first)"
   ]
  },
  {
   "cell_type": "code",
   "execution_count": 4,
   "metadata": {},
   "outputs": [
    {
     "name": "stdout",
     "output_type": "stream",
     "text": [
      "0\tThe presence of communication amid scientific minds was equally important to the success of the Manhattan Project as scientific intellect was. The only cloud hanging over the impressive achievement of the atomic researchers and engineers is what their success truly meant; hundreds of thousands of innocent lives obliterated.\n",
      "\n",
      "1\tThe Manhattan Project and its atomic bomb helped bring an end to World War II. Its legacy of peaceful uses of atomic energy continues to have an impact on history and science.\n",
      "\n",
      "2\tEssay on The Manhattan Project - The Manhattan Project The Manhattan Project was to see if making an atomic bomb possible. The success of this project would forever change the world forever making it known that something this powerful can be manmade.\n",
      "\n",
      "3\tThe Manhattan Project was the name for a project conducted during World War II, to develop the first atomic bomb. It refers specifically to the period of the project from 194 â¦ 2-1946 under the control of the U.S. Army Corps of Engineers, under the administration of General Leslie R. Groves.\n",
      "\n",
      "4\tversions of each volume as well as complementary websites. The first websiteâThe Manhattan Project: An Interactive Historyâis available on the Office of History and Heritage Resources website, http://www.cfo. doe.gov/me70/history. The Office of History and Heritage Resources and the National Nuclear Security\n",
      "\n",
      "5\tThe Manhattan Project. This once classified photograph features the first atomic bomb â a weapon that atomic scientists had nicknamed Gadget.. The nuclear age began on July 16, 1945, when it was detonated in the New Mexico desert.\n",
      "\n",
      "6\tNor will it attempt to substitute for the extraordinarily rich literature on the atomic bombs and the end of World War II. This collection does not attempt to document the origins and development of the Manhattan Project.\n",
      "\n",
      "7\tManhattan Project. The Manhattan Project was a research and development undertaking during World War II that produced the first nuclear weapons. It was led by the United States with the support of the United Kingdom and Canada. From 1942 to 1946, the project was under the direction of Major General Leslie Groves of the U.S. Army Corps of Engineers. Nuclear physicist Robert Oppenheimer was the director of the Los Alamos Laboratory that designed the actual bombs. The Army component of the project was designated the\n",
      "\n",
      "8\tIn June 1942, the United States Army Corps of Engineersbegan the Manhattan Project- The secret name for the 2 atomic bombs.\n",
      "\n",
      "9\tOne of the main reasons Hanford was selected as a site for the Manhattan Project's B Reactor was its proximity to the Columbia River, the largest river flowing into the Pacific Ocean from the North American coast.\n",
      "\n"
     ]
    }
   ],
   "source": [
    "with open ('collection.tsv', 'r') as f:\n",
    "     lines = f.readlines()\n",
    "    for i in range(10):\n",
    "         print(lines[i])\n"
   ]
  },
  {
   "cell_type": "markdown",
   "metadata": {},
   "source": [
    "A faster (but less elegant) code snippet to generate the output above would be:\n",
    "\n",
    "```\n",
    "with open ('collection.tsv', 'r') as f:   \n",
    "    i = 0\n",
    "    for line in f:\n",
    "        print(line)\n",
    "        i+=1\n",
    "        if i == 10:\n",
    "            break\n",
    "```"
   ]
  },
  {
   "cell_type": "markdown",
   "metadata": {},
   "source": [
    "As you can see, each line in the `collection.tsv` has two columns, seperated by `'\\t'`. The first column is an integer indicating the document id. The second column is the raw text. Each document in this collection is actually a short passage crawled from the Internet by the Bing search engine. "
   ]
  },
  {
   "cell_type": "code",
   "execution_count": 4,
   "metadata": {},
   "outputs": [
    {
     "name": "stdout",
     "output_type": "stream",
     "text": [
      "8841822\n"
     ]
    }
   ],
   "source": [
    "# Practice, find out the collection size, i.e., how many documents in the collection.\n",
    "# TODO\n",
    "import csv\n",
    "\n",
    "with open('collection.tsv','r') as f:\n",
    "    reader = csv.reader(f, delimiter='\\t')\n",
    "    last = f.readlines()[-1].split()\n",
    "    print(last[0])\n",
    "\n"
   ]
  },
  {
   "cell_type": "markdown",
   "metadata": {},
   "source": [
    "Indexing the collection with Pyserini requires the collection to be json format. So let's convert the raw collection into json format first. We provide a python script in `tools/` to do that. The script should generate 9 json files in `collections/collection_jsonl`"
   ]
  },
  {
   "cell_type": "code",
   "execution_count": 3,
   "metadata": {},
   "outputs": [
    {
     "name": "stdout",
     "output_type": "stream",
     "text": [
      "Converting collection...\n",
      "Converted 0 docs, writing into file 1\n",
      "Converted 100,000 docs, writing into file 1\n",
      "Converted 200,000 docs, writing into file 1\n",
      "Converted 300,000 docs, writing into file 1\n",
      "Converted 400,000 docs, writing into file 1\n",
      "Converted 500,000 docs, writing into file 1\n",
      "Converted 600,000 docs, writing into file 1\n",
      "Converted 700,000 docs, writing into file 1\n",
      "Converted 800,000 docs, writing into file 1\n",
      "Converted 900,000 docs, writing into file 1\n",
      "Converted 1,000,000 docs, writing into file 2\n",
      "Converted 1,100,000 docs, writing into file 2\n",
      "Converted 1,200,000 docs, writing into file 2\n",
      "Converted 1,300,000 docs, writing into file 2\n",
      "Converted 1,400,000 docs, writing into file 2\n",
      "Converted 1,500,000 docs, writing into file 2\n",
      "Converted 1,600,000 docs, writing into file 2\n",
      "Converted 1,700,000 docs, writing into file 2\n",
      "Converted 1,800,000 docs, writing into file 2\n",
      "Converted 1,900,000 docs, writing into file 2\n",
      "Converted 2,000,000 docs, writing into file 3\n",
      "Converted 2,100,000 docs, writing into file 3\n",
      "Converted 2,200,000 docs, writing into file 3\n",
      "Converted 2,300,000 docs, writing into file 3\n",
      "Converted 2,400,000 docs, writing into file 3\n",
      "Converted 2,500,000 docs, writing into file 3\n",
      "Converted 2,600,000 docs, writing into file 3\n",
      "Converted 2,700,000 docs, writing into file 3\n",
      "Converted 2,800,000 docs, writing into file 3\n",
      "Converted 2,900,000 docs, writing into file 3\n",
      "Converted 3,000,000 docs, writing into file 4\n",
      "Converted 3,100,000 docs, writing into file 4\n",
      "Converted 3,200,000 docs, writing into file 4\n",
      "Converted 3,300,000 docs, writing into file 4\n",
      "Converted 3,400,000 docs, writing into file 4\n",
      "Converted 3,500,000 docs, writing into file 4\n",
      "Converted 3,600,000 docs, writing into file 4\n",
      "Converted 3,700,000 docs, writing into file 4\n",
      "Converted 3,800,000 docs, writing into file 4\n",
      "Converted 3,900,000 docs, writing into file 4\n",
      "Converted 4,000,000 docs, writing into file 5\n",
      "Converted 4,100,000 docs, writing into file 5\n",
      "Converted 4,200,000 docs, writing into file 5\n",
      "Converted 4,300,000 docs, writing into file 5\n",
      "Converted 4,400,000 docs, writing into file 5\n",
      "Converted 4,500,000 docs, writing into file 5\n",
      "Converted 4,600,000 docs, writing into file 5\n",
      "Converted 4,700,000 docs, writing into file 5\n",
      "Converted 4,800,000 docs, writing into file 5\n",
      "Converted 4,900,000 docs, writing into file 5\n",
      "Converted 5,000,000 docs, writing into file 6\n",
      "Converted 5,100,000 docs, writing into file 6\n",
      "Converted 5,200,000 docs, writing into file 6\n",
      "Converted 5,300,000 docs, writing into file 6\n",
      "Converted 5,400,000 docs, writing into file 6\n",
      "Converted 5,500,000 docs, writing into file 6\n",
      "Converted 5,600,000 docs, writing into file 6\n",
      "Converted 5,700,000 docs, writing into file 6\n",
      "Converted 5,800,000 docs, writing into file 6\n",
      "Converted 5,900,000 docs, writing into file 6\n",
      "Converted 6,000,000 docs, writing into file 7\n",
      "Converted 6,100,000 docs, writing into file 7\n",
      "Converted 6,200,000 docs, writing into file 7\n",
      "Converted 6,300,000 docs, writing into file 7\n",
      "Converted 6,400,000 docs, writing into file 7\n",
      "Converted 6,500,000 docs, writing into file 7\n",
      "Converted 6,600,000 docs, writing into file 7\n",
      "Converted 6,700,000 docs, writing into file 7\n",
      "Converted 6,800,000 docs, writing into file 7\n",
      "Converted 6,900,000 docs, writing into file 7\n",
      "Converted 7,000,000 docs, writing into file 8\n",
      "Converted 7,100,000 docs, writing into file 8\n",
      "Converted 7,200,000 docs, writing into file 8\n",
      "Converted 7,300,000 docs, writing into file 8\n",
      "Converted 7,400,000 docs, writing into file 8\n",
      "Converted 7,500,000 docs, writing into file 8\n",
      "Converted 7,600,000 docs, writing into file 8\n",
      "Converted 7,700,000 docs, writing into file 8\n",
      "Converted 7,800,000 docs, writing into file 8\n",
      "Converted 7,900,000 docs, writing into file 8\n",
      "Converted 8,000,000 docs, writing into file 9\n",
      "Converted 8,100,000 docs, writing into file 9\n",
      "Converted 8,200,000 docs, writing into file 9\n",
      "Converted 8,300,000 docs, writing into file 9\n",
      "Converted 8,400,000 docs, writing into file 9\n",
      "Converted 8,500,000 docs, writing into file 9\n",
      "Converted 8,600,000 docs, writing into file 9\n",
      "Converted 8,700,000 docs, writing into file 9\n",
      "Converted 8,800,000 docs, writing into file 9\n",
      "Done!\n"
     ]
    }
   ],
   "source": [
    "!python tools/convert_collection_to_jsonl.py \\\n",
    " --collection-path collection.tsv \\\n",
    " --output-folder collection/collection_jsonl"
   ]
  },
  {
   "cell_type": "markdown",
   "metadata": {},
   "source": [
    "Before starting indexing, we should allocate enough memory for the Java virtual machine heap (expresed in MB).\n",
    "Note, if you get an error in execurting the code below, then:\n",
    "\n",
    "1. close this notebook and go back to command line\n",
    "2. close the jupyter instance, and exit the conda environment (`conda deactivate`) and open a new terminal session\n",
    "3. then reactivate the infs7410 environment (`source activate infs7410`)\n",
    "4. then re-execute `jupyter notebook` and reload this notebook from the interface\n",
    "5. re-execute the code block below"
   ]
  },
  {
   "cell_type": "code",
   "execution_count": 5,
   "metadata": {},
   "outputs": [],
   "source": [
    "import jnius_config\n",
    "jnius_config.add_options('-Xms128m', '-Xmx8192m') # assign a maximum memory of 8192mb (~8GB) to the java jvm\n",
    "\n"
   ]
  },
  {
   "cell_type": "markdown",
   "metadata": {},
   "source": [
    "The code below will use Pyserini to index the json collection and store the index into `indexes/` with name `lucene-index-msmarco-passage-noProcessing`. You may already realize from the parameters that it will keep stopwords and won't use any stemmer. The indexing speed may vary; on a modern desktop with an SSD, indexing takes a few minutes. (so hold on tight, as you will see no output until the collection is loaded by the indexer; then you will still have to wait, until the index is created)"
   ]
  },
  {
   "cell_type": "code",
   "execution_count": 6,
   "metadata": {},
   "outputs": [
    {
     "name": "stdout",
     "output_type": "stream",
     "text": [
      "WARNING: sun.reflect.Reflection.getCallerClass is not supported. This will impact performance.\n",
      "2021-08-16 12:24:29,422 INFO  [main] index.IndexCollection (IndexCollection.java:643) - Setting log level to INFO\n",
      "2021-08-16 12:24:29,424 INFO  [main] index.IndexCollection (IndexCollection.java:646) - Starting indexer...\n",
      "2021-08-16 12:24:29,424 INFO  [main] index.IndexCollection (IndexCollection.java:647) - ============ Loading Parameters ============\n",
      "2021-08-16 12:24:29,425 INFO  [main] index.IndexCollection (IndexCollection.java:648) - DocumentCollection path: collection/collection_jsonl\n",
      "2021-08-16 12:24:29,425 INFO  [main] index.IndexCollection (IndexCollection.java:649) - CollectionClass: JsonCollection\n",
      "2021-08-16 12:24:29,425 INFO  [main] index.IndexCollection (IndexCollection.java:650) - Generator: DefaultLuceneDocumentGenerator\n",
      "2021-08-16 12:24:29,425 INFO  [main] index.IndexCollection (IndexCollection.java:651) - Threads: 9\n",
      "2021-08-16 12:24:29,426 INFO  [main] index.IndexCollection (IndexCollection.java:652) - Stemmer: none\n",
      "2021-08-16 12:24:29,426 INFO  [main] index.IndexCollection (IndexCollection.java:653) - Keep stopwords? true\n",
      "2021-08-16 12:24:29,426 INFO  [main] index.IndexCollection (IndexCollection.java:654) - Stopwords:  null\n",
      "2021-08-16 12:24:29,427 INFO  [main] index.IndexCollection (IndexCollection.java:655) - Store positions? false\n",
      "2021-08-16 12:24:29,427 INFO  [main] index.IndexCollection (IndexCollection.java:656) - Store docvectors? false\n",
      "2021-08-16 12:24:29,427 INFO  [main] index.IndexCollection (IndexCollection.java:657) - Store document \"contents\" field? false\n",
      "2021-08-16 12:24:29,428 INFO  [main] index.IndexCollection (IndexCollection.java:658) - Store document \"raw\" field? true\n",
      "2021-08-16 12:24:29,428 INFO  [main] index.IndexCollection (IndexCollection.java:659) - Optimize (merge segments)? true\n",
      "2021-08-16 12:24:29,428 INFO  [main] index.IndexCollection (IndexCollection.java:660) - Whitelist: null\n",
      "2021-08-16 12:24:29,429 INFO  [main] index.IndexCollection (IndexCollection.java:661) - Pretokenized?: false\n",
      "2021-08-16 12:24:29,429 INFO  [main] index.IndexCollection (IndexCollection.java:681) - Directly building Lucene indexes...\n",
      "2021-08-16 12:24:29,429 INFO  [main] index.IndexCollection (IndexCollection.java:682) - Index path: indexes/lucene-index-msmarco-passage-noProcessing\n",
      "2021-08-16 12:24:29,439 INFO  [main] index.IndexCollection (IndexCollection.java:731) - ============ Indexing Collection ============\n",
      "2021-08-16 12:24:29,717 INFO  [main] index.IndexCollection (IndexCollection.java:829) - Thread pool with 9 threads initialized.\n",
      "2021-08-16 12:24:29,717 INFO  [main] index.IndexCollection (IndexCollection.java:831) - Initializing collection in collection/collection_jsonl\n",
      "2021-08-16 12:24:29,724 INFO  [main] index.IndexCollection (IndexCollection.java:840) - 9 files found\n",
      "2021-08-16 12:24:29,724 INFO  [main] index.IndexCollection (IndexCollection.java:841) - Starting to index...\n",
      "2021-08-16 12:25:29,735 INFO  [main] index.IndexCollection (IndexCollection.java:861) - 0.00% of files completed, 4,360,000 documents indexed\n",
      "2021-08-16 12:26:07,764 DEBUG [pool-2-thread-8] index.IndexCollection$LocalIndexerThread (IndexCollection.java:248) - collection_jsonl/docs08.json: 841823 docs added.\n",
      "2021-08-16 12:26:23,964 DEBUG [pool-2-thread-2] index.IndexCollection$LocalIndexerThread (IndexCollection.java:248) - collection_jsonl/docs07.json: 1000000 docs added.\n",
      "2021-08-16 12:26:24,526 DEBUG [pool-2-thread-3] index.IndexCollection$LocalIndexerThread (IndexCollection.java:248) - collection_jsonl/docs00.json: 1000000 docs added.\n",
      "2021-08-16 12:26:25,459 DEBUG [pool-2-thread-4] index.IndexCollection$LocalIndexerThread (IndexCollection.java:248) - collection_jsonl/docs01.json: 1000000 docs added.\n",
      "2021-08-16 12:26:25,595 DEBUG [pool-2-thread-5] index.IndexCollection$LocalIndexerThread (IndexCollection.java:248) - collection_jsonl/docs02.json: 1000000 docs added.\n",
      "2021-08-16 12:26:26,082 DEBUG [pool-2-thread-6] index.IndexCollection$LocalIndexerThread (IndexCollection.java:248) - collection_jsonl/docs03.json: 1000000 docs added.\n",
      "2021-08-16 12:26:26,086 DEBUG [pool-2-thread-7] index.IndexCollection$LocalIndexerThread (IndexCollection.java:248) - collection_jsonl/docs04.json: 1000000 docs added.\n",
      "2021-08-16 12:26:26,614 DEBUG [pool-2-thread-9] index.IndexCollection$LocalIndexerThread (IndexCollection.java:248) - collection_jsonl/docs05.json: 1000000 docs added.\n",
      "2021-08-16 12:26:27,173 DEBUG [pool-2-thread-1] index.IndexCollection$LocalIndexerThread (IndexCollection.java:248) - collection_jsonl/docs06.json: 1000000 docs added.\n",
      "2021-08-16 12:28:46,296 INFO  [main] index.IndexCollection (IndexCollection.java:925) - Indexing Complete! 8,841,823 documents indexed\n",
      "2021-08-16 12:28:46,297 INFO  [main] index.IndexCollection (IndexCollection.java:926) - ============ Final Counter Values ============\n",
      "2021-08-16 12:28:46,297 INFO  [main] index.IndexCollection (IndexCollection.java:927) - indexed:        8,841,823\n",
      "2021-08-16 12:28:46,298 INFO  [main] index.IndexCollection (IndexCollection.java:928) - unindexable:            0\n",
      "2021-08-16 12:28:46,298 INFO  [main] index.IndexCollection (IndexCollection.java:929) - empty:                  0\n",
      "2021-08-16 12:28:46,298 INFO  [main] index.IndexCollection (IndexCollection.java:930) - skipped:                0\n",
      "2021-08-16 12:28:46,298 INFO  [main] index.IndexCollection (IndexCollection.java:931) - errors:                 0\n",
      "2021-08-16 12:28:46,307 INFO  [main] index.IndexCollection (IndexCollection.java:934) - Total 8,841,823 documents indexed in 00:04:16\n"
     ]
    }
   ],
   "source": [
    "!python -m pyserini.index -collection JsonCollection -generator DefaultLuceneDocumentGenerator \\\n",
    " -threads 9 -input collection/collection_jsonl \\\n",
    " -index indexes/lucene-index-msmarco-passage-noProcessing \\\n",
    " -optimize \\\n",
    " -storeRaw \\\n",
    " -stemmer none \\\n",
    " -keepStopwords"
   ]
  },
  {
   "cell_type": "markdown",
   "metadata": {},
   "source": [
    "Now that the index has been created, let's get some index statistics"
   ]
  },
  {
   "cell_type": "code",
   "execution_count": 7,
   "metadata": {},
   "outputs": [
    {
     "name": "stdout",
     "output_type": "stream",
     "text": [
      "{'total_terms': 505954098, 'documents': 8841823, 'non_empty_documents': 8841823, 'unique_terms': 2897192}\n"
     ]
    }
   ],
   "source": [
    "from pyserini.index import IndexReader\n",
    "\n",
    "# Initialize from an index path:\n",
    "index_reader = IndexReader('indexes/lucene-index-msmarco-passage-noProcessing/')\n",
    "print(index_reader.stats())"
   ]
  },
  {
   "cell_type": "markdown",
   "metadata": {},
   "source": [
    "As the stats indicate, there are 505,954,098 terms in the collection, of which 289,7192 are unique.\n"
   ]
  },
  {
   "cell_type": "markdown",
   "metadata": {},
   "source": [
    "---\n",
    "\n",
    "# Exercise 2: Verify Zipf's law with our collection\n",
    "\n",
    "First, let's dive into some term statistics with the Pyserini index reader. The code below outputs some statistics for somes terms in the index."
   ]
  },
  {
   "cell_type": "code",
   "execution_count": 8,
   "metadata": {},
   "outputs": [
    {
     "name": "stdout",
     "output_type": "stream",
     "text": [
      "Term:656,520, document frequency:1, term frequency:1)\n",
      "Term:7,969,113, document frequency:1, term frequency:1)\n",
      "Term:74177, document frequency:3, term frequency:4)\n",
      "Term:79835, document frequency:1, term frequency:1)\n",
      "Term:82.600858, document frequency:1, term frequency:1)\n",
      "Term:87935, document frequency:2, term frequency:2)\n",
      "Term:91.19, document frequency:1, term frequency:1)\n",
      "Term:97,720, document frequency:5, term frequency:5)\n",
      "Term:a.xplosion, document frequency:1, term frequency:1)\n",
      "Term:abruptly.he, document frequency:1, term frequency:1)\n",
      "Term:acids.emember, document frequency:1, term frequency:1)\n",
      "Term:adds.the, document frequency:2, term frequency:3)\n",
      "Term:aeterne, document frequency:2, term frequency:2)\n",
      "Term:agobeautifulchaos, document frequency:1, term frequency:1)\n",
      "Term:alaek, document frequency:1, term frequency:1)\n",
      "Term:allopsyche, document frequency:2, term frequency:2)\n",
      "Term:america.malaria, document frequency:7, term frequency:7)\n",
      "Term:anddonalsonville, document frequency:1, term frequency:1)\n",
      "Term:anon39270, document frequency:3, term frequency:3)\n",
      "Term:aparium, document frequency:1, term frequency:1)\n",
      "Term:aproape, document frequency:1, term frequency:1)\n",
      "Term:arguments.xample, document frequency:1, term frequency:1)\n",
      "Term:as.incoln, document frequency:1, term frequency:1)\n",
      "Term:asx:bpt, document frequency:1, term frequency:1)\n",
      "Term:aura.after, document frequency:1, term frequency:1)\n",
      "Term:away.age, document frequency:1, term frequency:1)\n",
      "Term:backgroung, document frequency:3, term frequency:3)\n",
      "Term:bank.orrowers, document frequency:1, term frequency:1)\n",
      "Term:battery.filmed, document frequency:1, term frequency:1)\n",
      "Term:bees.choose, document frequency:1, term frequency:1)\n",
      "Term:bentleyaccording, document frequency:1, term frequency:1)\n",
      "Term:bifoveal, document frequency:1, term frequency:1)\n",
      "Term:bitterbrush, document frequency:5, term frequency:6)\n",
      "Term:bluebonnets, document frequency:44, term frequency:64)\n",
      "Term:bone.ffal, document frequency:1, term frequency:1)\n",
      "Term:bowriderâ, document frequency:3, term frequency:3)\n",
      "Term:brendag, document frequency:5, term frequency:6)\n",
      "Term:bsquare, document frequency:5, term frequency:5)\n",
      "Term:business's.for, document frequency:1, term frequency:1)\n",
      "Term:ca.a, document frequency:2, term frequency:2)\n"
     ]
    }
   ],
   "source": [
    "import itertools\n",
    "for i, term in enumerate(itertools.islice(index_reader.terms(), 300000, 700000, 10000)):\n",
    "    print(f'Term:{term.term}, document frequency:{term.df}, term frequency:{term.cf})')"
   ]
  },
  {
   "cell_type": "markdown",
   "metadata": {},
   "source": [
    "* `document frequency` indicates how many documents in the collection contain this term, \n",
    "* `term frequency` indicates how many times the term appears in the collection. \n",
    "\n",
    "You may think these terms are very unusual, however, they make sense because our collection is from a crawl of Web pages and it is possible that (more than) some web pages have random terms.\n",
    "\n",
    "\n",
    "## Plot Zipf's law term distribution with matplotlib\n",
    "Now, let's plot the Zipf's law.\n",
    "First, install the matplotlib library: this is a very popular Python data visualization library that you will use also for the assignment. Check out the this tutorial website for more details: https://www.tutorialspoint.com/matplotlib/index.htm"
   ]
  },
  {
   "cell_type": "code",
   "execution_count": 9,
   "metadata": {},
   "outputs": [
    {
     "name": "stdout",
     "output_type": "stream",
     "text": [
      "Requirement already satisfied: matplotlib in /Users/tongzheng/opt/anaconda3/envs/infs7410/lib/python3.7/site-packages (3.4.2)\n",
      "Requirement already satisfied: cycler>=0.10 in /Users/tongzheng/opt/anaconda3/envs/infs7410/lib/python3.7/site-packages (from matplotlib) (0.10.0)\n",
      "Requirement already satisfied: pyparsing>=2.2.1 in /Users/tongzheng/opt/anaconda3/envs/infs7410/lib/python3.7/site-packages (from matplotlib) (2.4.7)\n",
      "Requirement already satisfied: python-dateutil>=2.7 in /Users/tongzheng/opt/anaconda3/envs/infs7410/lib/python3.7/site-packages (from matplotlib) (2.8.2)\n",
      "Requirement already satisfied: numpy>=1.16 in /Users/tongzheng/opt/anaconda3/envs/infs7410/lib/python3.7/site-packages (from matplotlib) (1.21.1)\n",
      "Requirement already satisfied: pillow>=6.2.0 in /Users/tongzheng/opt/anaconda3/envs/infs7410/lib/python3.7/site-packages (from matplotlib) (8.3.1)\n",
      "Requirement already satisfied: kiwisolver>=1.0.1 in /Users/tongzheng/opt/anaconda3/envs/infs7410/lib/python3.7/site-packages (from matplotlib) (1.3.1)\n",
      "Requirement already satisfied: six in /Users/tongzheng/opt/anaconda3/envs/infs7410/lib/python3.7/site-packages (from cycler>=0.10->matplotlib) (1.16.0)\n"
     ]
    }
   ],
   "source": [
    "!pip install matplotlib"
   ]
  },
  {
   "cell_type": "markdown",
   "metadata": {},
   "source": [
    "Now that you know how to access term statistics with Pyserini's index reader, finish the code below to generate a bar plot of term frequency distributions. Keep in mind, there are 2,897,192 unique terms in the index, so it is impossible to plot all the terms: you may want to skip some terms.\n",
    "\n",
    "You may want to check out matplotlib bar plot tutorial first: https://www.tutorialspoint.com/matplotlib/matplotlib_bar_plot.htm\n",
    "\n",
    "You should generate something like this:\n",
    "![image info](./images/zipf_law_example.png)"
   ]
  },
  {
   "cell_type": "code",
   "execution_count": 16,
   "metadata": {},
   "outputs": [
    {
     "data": {
      "image/png": "[encoded data removed]",
      "text/plain": [
       "<Figure size 432x288 with 1 Axes>"
      ]
     },
     "metadata": {
      "needs_background": "light"
     },
     "output_type": "display_data"
    }
   ],
   "source": [
    "import numpy as np\n",
    "import matplotlib.pyplot as plt\n",
    "\n",
    "# TODO\n",
    "term_list = [ ]\n",
    "freq_list = [ ]\n",
    "fig = plt.figure()\n",
    "ax = fig.add_axes([0,0,1,1])\n",
    "for i, term in enumerate(index_reader.terms()):\n",
    "    term_list.append(term.term)\n",
    "    freq_list.append(term.cf)\n",
    "sorted_term = [x for i, x in sorted(zip(freq_list, term_list), reverse=True)]\n",
    "sorted_freq = sorted(freq_list, reverse=True)\n",
    "ax.bar(sorted_term[:30], sorted_freq[:30])\n",
    "ax.set_ylabel('Frequency')\n",
    "ax.set_title(\"zipf's law\")\n",
    "plt.show()"
   ]
  },
  {
   "cell_type": "markdown",
   "metadata": {},
   "source": [
    "### Reflections: \n",
    "What do you notice about this plot? What is it telling you?\n",
    "\n",
    "Next, modify the above script yet again so that it produces a plot that only shows terms that have a frequency above 50,000, and also plot the least 20 frequent terms. What is it telling you?"
   ]
  },
  {
   "cell_type": "markdown",
   "metadata": {},
   "source": [
    "## Reindex the collection with Porter stemmer and stopwords removal\n",
    "\n",
    "Using the code below, reindex the collection: this time we set `-stemmer` to `porter` and do not `-keepStopwords`.\n"
   ]
  },
  {
   "cell_type": "code",
   "execution_count": 7,
   "metadata": {},
   "outputs": [
    {
     "name": "stdout",
     "output_type": "stream",
     "text": [
      "WARNING: sun.reflect.Reflection.getCallerClass is not supported. This will impact performance.\n",
      "2021-08-30 12:43:56,981 INFO  [main] index.IndexCollection (IndexCollection.java:643) - Setting log level to INFO\n",
      "2021-08-30 12:43:56,983 INFO  [main] index.IndexCollection (IndexCollection.java:646) - Starting indexer...\n",
      "2021-08-30 12:43:56,983 INFO  [main] index.IndexCollection (IndexCollection.java:647) - ============ Loading Parameters ============\n",
      "2021-08-30 12:43:56,984 INFO  [main] index.IndexCollection (IndexCollection.java:648) - DocumentCollection path: collection/collection_jsonl\n",
      "2021-08-30 12:43:56,984 INFO  [main] index.IndexCollection (IndexCollection.java:649) - CollectionClass: JsonCollection\n",
      "2021-08-30 12:43:56,984 INFO  [main] index.IndexCollection (IndexCollection.java:650) - Generator: DefaultLuceneDocumentGenerator\n",
      "2021-08-30 12:43:56,985 INFO  [main] index.IndexCollection (IndexCollection.java:651) - Threads: 9\n",
      "2021-08-30 12:43:56,985 INFO  [main] index.IndexCollection (IndexCollection.java:652) - Stemmer: porter\n",
      "2021-08-30 12:43:56,986 INFO  [main] index.IndexCollection (IndexCollection.java:653) - Keep stopwords? false\n",
      "2021-08-30 12:43:56,986 INFO  [main] index.IndexCollection (IndexCollection.java:654) - Stopwords:  null\n",
      "2021-08-30 12:43:56,987 INFO  [main] index.IndexCollection (IndexCollection.java:655) - Store positions? true\n",
      "2021-08-30 12:43:56,987 INFO  [main] index.IndexCollection (IndexCollection.java:656) - Store docvectors? true\n",
      "2021-08-30 12:43:56,988 INFO  [main] index.IndexCollection (IndexCollection.java:657) - Store document \"contents\" field? false\n",
      "2021-08-30 12:43:56,988 INFO  [main] index.IndexCollection (IndexCollection.java:658) - Store document \"raw\" field? true\n",
      "2021-08-30 12:43:56,989 INFO  [main] index.IndexCollection (IndexCollection.java:659) - Optimize (merge segments)? true\n",
      "2021-08-30 12:43:56,989 INFO  [main] index.IndexCollection (IndexCollection.java:660) - Whitelist: null\n",
      "2021-08-30 12:43:56,989 INFO  [main] index.IndexCollection (IndexCollection.java:661) - Pretokenized?: false\n",
      "2021-08-30 12:43:56,990 INFO  [main] index.IndexCollection (IndexCollection.java:681) - Directly building Lucene indexes...\n",
      "2021-08-30 12:43:56,990 INFO  [main] index.IndexCollection (IndexCollection.java:682) - Index path: indexes/lucene-index-msmarco-passage-PoterStemmerStopwords\n",
      "2021-08-30 12:43:56,994 INFO  [main] index.IndexCollection (IndexCollection.java:731) - ============ Indexing Collection ============\n",
      "2021-08-30 12:44:19,760 INFO  [main] index.IndexCollection (IndexCollection.java:829) - Thread pool with 9 threads initialized.\n",
      "2021-08-30 12:44:19,761 INFO  [main] index.IndexCollection (IndexCollection.java:831) - Initializing collection in collection/collection_jsonl\n",
      "2021-08-30 12:44:19,769 INFO  [main] index.IndexCollection (IndexCollection.java:840) - 9 files found\n",
      "2021-08-30 12:44:19,769 INFO  [main] index.IndexCollection (IndexCollection.java:841) - Starting to index...\n",
      "2021-08-30 12:45:19,781 INFO  [main] index.IndexCollection (IndexCollection.java:861) - 0.00% of files completed, 2,050,000 documents indexed\n",
      "2021-08-30 12:46:19,786 INFO  [main] index.IndexCollection (IndexCollection.java:861) - 0.00% of files completed, 4,360,000 documents indexed\n",
      "2021-08-30 12:47:19,789 INFO  [main] index.IndexCollection (IndexCollection.java:861) - 0.00% of files completed, 6,390,000 documents indexed\n",
      "2021-08-30 12:47:47,673 DEBUG [pool-2-thread-8] index.IndexCollection$LocalIndexerThread (IndexCollection.java:248) - collection_jsonl/docs08.json: 841823 docs added.\n",
      "2021-08-30 12:48:19,797 INFO  [main] index.IndexCollection (IndexCollection.java:861) - 11.11% of files completed, 8,391,823 documents indexed\n",
      "2021-08-30 12:48:26,267 DEBUG [pool-2-thread-2] index.IndexCollection$LocalIndexerThread (IndexCollection.java:248) - collection_jsonl/docs07.json: 1000000 docs added.\n",
      "2021-08-30 12:48:28,434 DEBUG [pool-2-thread-3] index.IndexCollection$LocalIndexerThread (IndexCollection.java:248) - collection_jsonl/docs00.json: 1000000 docs added.\n",
      "2021-08-30 12:48:29,081 DEBUG [pool-2-thread-4] index.IndexCollection$LocalIndexerThread (IndexCollection.java:248) - collection_jsonl/docs01.json: 1000000 docs added.\n",
      "2021-08-30 12:48:31,883 DEBUG [pool-2-thread-5] index.IndexCollection$LocalIndexerThread (IndexCollection.java:248) - collection_jsonl/docs02.json: 1000000 docs added.\n",
      "2021-08-30 12:48:32,028 DEBUG [pool-2-thread-7] index.IndexCollection$LocalIndexerThread (IndexCollection.java:248) - collection_jsonl/docs04.json: 1000000 docs added.\n",
      "2021-08-30 12:48:32,560 DEBUG [pool-2-thread-6] index.IndexCollection$LocalIndexerThread (IndexCollection.java:248) - collection_jsonl/docs03.json: 1000000 docs added.\n",
      "2021-08-30 12:48:32,768 DEBUG [pool-2-thread-9] index.IndexCollection$LocalIndexerThread (IndexCollection.java:248) - collection_jsonl/docs05.json: 1000000 docs added.\n",
      "2021-08-30 12:48:35,482 DEBUG [pool-2-thread-1] index.IndexCollection$LocalIndexerThread (IndexCollection.java:248) - collection_jsonl/docs06.json: 1000000 docs added.\n",
      "2021-08-30 12:51:20,605 INFO  [main] index.IndexCollection (IndexCollection.java:925) - Indexing Complete! 8,841,823 documents indexed\n",
      "2021-08-30 12:51:20,606 INFO  [main] index.IndexCollection (IndexCollection.java:926) - ============ Final Counter Values ============\n",
      "2021-08-30 12:51:20,606 INFO  [main] index.IndexCollection (IndexCollection.java:927) - indexed:        8,841,823\n",
      "2021-08-30 12:51:20,606 INFO  [main] index.IndexCollection (IndexCollection.java:928) - unindexable:            0\n",
      "2021-08-30 12:51:20,606 INFO  [main] index.IndexCollection (IndexCollection.java:929) - empty:                  0\n",
      "2021-08-30 12:51:20,607 INFO  [main] index.IndexCollection (IndexCollection.java:930) - skipped:                0\n",
      "2021-08-30 12:51:20,608 INFO  [main] index.IndexCollection (IndexCollection.java:931) - errors:                 0\n",
      "2021-08-30 12:51:20,620 INFO  [main] index.IndexCollection (IndexCollection.java:934) - Total 8,841,823 documents indexed in 00:07:23\n"
     ]
    }
   ],
   "source": [
    "!python -m pyserini.index -collection JsonCollection -generator DefaultLuceneDocumentGenerator \\\n",
    " -threads 9 -input collection/collection_jsonl \\\n",
    " -index indexes/lucene-index-msmarco-passage-PoterStemmerStopwords \\\n",
    " -optimize \\\n",
    " -storeRaw \\\n",
    " -stemmer porter \\\n",
    " -storePositions \\\n",
    " -storeDocvectors"
   ]
  },
  {
   "cell_type": "markdown",
   "metadata": {},
   "source": [
    "Redo the exercise 2 again with the new index, what is the difference?"
   ]
  }
 ],
 "metadata": {
  "kernelspec": {
   "display_name": "Python 3 (ipykernel)",
   "language": "python",
   "name": "python3"
  },
  "language_info": {
   "codemirror_mode": {
    "name": "ipython",
    "version": 3
   },
   "file_extension": ".py",
   "mimetype": "text/x-python",
   "name": "python",
   "nbconvert_exporter": "python",
   "pygments_lexer": "ipython3",
   "version": "3.7.10"
  },
  "pycharm": {
   "stem_cell": {
    "cell_type": "raw",
    "metadata": {
     "collapsed": false
    },
    "source": []
   }
  }
 },
 "nbformat": 4,
 "nbformat_minor": 1
}
