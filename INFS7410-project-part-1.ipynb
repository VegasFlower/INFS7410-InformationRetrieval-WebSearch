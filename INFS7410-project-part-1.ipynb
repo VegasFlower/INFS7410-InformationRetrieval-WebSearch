{
 "cells": [
  {
   "cell_type": "markdown",
   "id": "olive-parts",
   "metadata": {},
   "source": [
    "# INFS7410 Project - Part 1\n",
    "\n",
    "_version 1.0_\n",
    "\n",
    "by Tong Zheng s4719268\n",
    "\n",
    "### Preamble\n",
    "\n",
    "The due date for this assignment is **3 September 2021 16:00 Eastern Australia Standard Time**.\n",
    "\n",
    "This part of project is worth 20% of the overall mark for INFS7410 (part 1 + part 2 = 40%). A detailed marking sheet for this assignment is provided alongside this notebook. The project is to be completed individually. \n",
    "\n",
    "We recommend that you make an early start on this assignment, and proceed by steps. There are a number of activities you may have already tackled, including setting up the pipeline, manipulating the queries, implement some retrieval functions, and performing evaluation and analysis. Most of the assignment relies on knowledge and code you should have already have experienced in the computer practicals, however there are some hidden challenges here and there that you may require some time to solve.\n",
    "\n",
    "### Aim\n",
    "\n",
    "Project aim: The aim of this project is to implement a number of classical information retrieval methods, evaluate them and compare them in the context of a real use-case.\n",
    "\n",
    "##### Project Part 1 aim \n",
    "\n",
    "The aim of Part 1 is to:\n",
    "\n",
    "* Setup your infrastructure to index the collection and evaluate queries.\n",
    "* Implement common information retrieval baselines.\n",
    "* Tune your retrieval implementations to improve their effectiveness.\n",
    "* Implement rank fusion methods.\n",
    "\n",
    "### The Information Retrieval Task: Web Passage Ranking\n",
    "\n",
    "In this project we will consider the problem of open-domain passage ranking in answer to web queries. In this context, users pose queries to the search engine and expect answers in the form of a ranked list of passages (maximum 1000 passages to be retrieved). \n",
    "\n",
    "The provided queries are real queries submitted to the Microsoft Bing search engine. In the collection, there are approximately 8.8 million passages and the goal is to rank them based on their relevance to the queries.\n",
    "\n",
    "\n",
    "### What we provide you with:\n",
    "\n",
    "#### Files from practical\n",
    "* A collection of 8.8 million text passages extracted from web pages (`collection.tsv`— provided in Week 1).\n",
    "* A query file that contains 43 queries for you to perform retrieval experiments (`queries.tsv`— provided in Week 2).\n",
    "* A qrel file that contains relevance judgements for you to tune your methods (`qrels.txt`— provided in Week 2).\n",
    "\n",
    "#### Extra files for this project\n",
    "* A leaderboard system for you to evaluate how well your system performs.\n",
    "* A test query file that contains 54 queries for you to generate run files to submit to the leaderboard (`test_queries.tsv`).\n",
    "* This jupyter notebook, which you will include inside it your implementation and report.\n",
    "\n",
    "Put this notebook and provided files under the same directory.\n",
    "\n",
    "#### What you need to produce\n",
    "\n",
    "You need to produce:\n",
    "\n",
    "* Correct implementations of the methods required by this project specifications.\n",
    "* An explanation of the retrieval methods used, including the formulas that represent the models you implemented and code that implements that formula, an explanation of the evaluation settings followed, and a discussion of the findings.\n",
    "\n",
    "You are required to produce both of these within this jupyter notebook.\n",
    "\n",
    "#### Required methods to implement\n",
    "\n",
    "In Part 1 of the project you are required to implement the following retrieval methods. All implementations should be based on your own code.\n",
    "\n",
    "1. BM25: Create your own implementation, do not use the Pynserini API's implementation. See the videos in Week 3 for background information.\n",
    "2. Pseudo-relevance feedback using BM25 for query expansion: create your own implementation using the Pyserini API to extract index statistics. See Week 5 practical for background information.\n",
    "3. IDF-r query reduction: create your own implementation using the Pyserini API to extract index statistics. See Week 5 practical for background information.\n",
    "4. The rank fusion method Borda; you need to create your own implementation of this. See Week 4 practical for background information.\n",
    "5. The rank fusion method CombSUM; you need to create your own implementation of this. See Week 4 practical for background information.\n",
    "6. The rank fusion method CombMNZ; you need to create your own implementation of this. See Week 4 practical for background information.\n",
    "\n",
    "\n",
    "For your BM25, query expansion and query reduction implementations, you are also required to tune the parameters of these methods. You must perform a parameter search over at least 5 sensibly chosen parameter values depending on the method (10 when the method has two parameters).\n",
    "\n",
    "For the rank fusion methods, consider fusing the highest performing tuned run from each of the BM25, query expansion and query reduction implementations.\n",
    "\n",
    "You should have already attempted many of these implementations above as part of the computer pracs exercises.\n",
    "\n",
    "#### Required evaluation to perform\n",
    "\n",
    "In Part 1 of the project you are required to perform the following evaluation:\n",
    "\n",
    "1. For all methods, tune using `queries.tsv` and `qrels.txt` (i.e., use this data to tune any parameter of a retrieval model, e.g. $b$ and $k1$ for BM25, etc.) and submit your runs on the `test_queries.tsv` using the parameter values you selected from the `queries.tsv` to the learderboard system. \n",
    "2. Report the results of every method on the `queries.tsv` (only for the run you selected the tuned paramters from) separately, into a table. Perform statistical significance analysis across the results of the methods and report them in the tables.\n",
    "3. Produce a gain-loss plot that compares BM25 vs. Pseudo-relevance feedback query expansion using BM25; and plots that compare BM25 vs. each rank fusion method on the dev set.\n",
    "4. Comment on trends and differences observed when comparing your findings. Is there a method that consistently outperform the others on the `queries.tsv` and the `test_queries.tsv`?\n",
    "5. Provide insights of whether rank fusion works, or if it does not, e.g., with respect to runs to be considered in the fusion process, queries, etc.\n",
    "\n",
    "In terms of evaluation measures, evaluate the retrieval methods with respect to nDCG at 10 (`ndcg_cut_10`). You should use this measure as the target measure for tuning. Also compute reciprocal rank at 1000 (`recip_rank`),  MAP (`map`) and Recall at 1000 (`recall_1000`).\n",
    "\n",
    "\n",
    "For all gain-loss plots, produce them with respect to nDCG at 10.\n",
    "\n",
    "For all statistical significance analysis, use paired t-test; distinguish between p<0.05 and p<0.01.\n",
    "\n",
    "#### How to submit\n",
    "\n",
    "You will have to submit one file:\n",
    "\n",
    "1. A zip file containing this notebook (.ipynb) and this notebook **as a PDF document**. The code should be able to be executed by us. Remeber to include all your discussion and analysis also in this notebook and not as a separate file.\n",
    "\n",
    "It needs to be submitted via the relevant Turnitin link in the INFS7410 BlackBoard site, by **3 September 2021, 16:00 Eastern Australia Standard Time**, unless you have been given an extension (according to UQ policy), *before* the due date of the assignment.\n"
   ]
  },
  {
   "cell_type": "markdown",
   "id": "massive-namibia",
   "metadata": {},
   "source": [
    "---\n",
    "\n",
    "### Leaderboard Challenge\n",
    "\n",
    "As part of this project, we present you the leaderboard challenge, where you can submit your best runs and compare them with others. You can submit multiple times during the whole process of your project. \n",
    "\n",
    "For models, you can use any retrieval or rerank or fusion methods (including those you implement for the pracs and for the assessment), even combine multiple models together, not limited to the models we have learned in this class. You are allowed to be creative and come up with your own retrieval or rerank models.\n",
    "\n",
    "Although multiple run files can be submitted, we recommend you to run your models with the queries we provided in pracs first, only to check if your model is valid. Then you can run on the test queries for your project, and submit it to leaderboard.\n",
    "\n",
    "__The submission link is:__ https://infs7410.uqcloud.net/leaderboard/\n",
    "\n",
    "After opening the link, you will see the main page as below:\n",
    "\n",
    "![main](images/main.png)\n",
    "\n",
    "The submitted runs will appear here. You can see we have already submitted a sample run as `pyserini_BM25`. The name of the run is in the format of `student name(runtag)`, so make sure you name your run correctly in the run file's 6th column. If you use the same run tag for all the runs you submit, the latter ones will overwrite the previous runs: you will only have one run at the end. So to submit different runs, make sure to use different run tags. \n",
    "\n",
    "If you want to make a submission, type the password in the textbox, and hit enter. (__The password is your student number__) It will take you to your private submission page to submit your run, as below:\n",
    "\n",
    "![submit](images/submit.png)\n",
    "\n",
    "In this page, choose the run file you wish to upload by clicking the `Browse` button, then click `Submit` to submit the run.\n",
    "\n",
    "We highly encourage you to submit your best runs to the leaderboard, so you will know how your model performs compared to your classmates.\n",
    "\n",
    "We will also give prizes to students who have the top 3 best runs. More specifically:\n",
    "\n",
    "Leaderboard winners: Certificate of award to the students with the best 3 runs (winner, + 2 runner-up) in the leaderboard (test queries) by the time the assessment closes (end of semester). +2% final mark provided to the student whose run has the highest effectiveness (ndcg_cut_10), +1% final mark to the student whose run has the second highest effectiveness (ndcg_cut_10) in the leaderboard by the end of the semester. A/Prof. Guido can provide recommendation letters to students with top 3 runs.\n",
    "\n",
    "This leaderboard will be running throughout the semester.\n",
    "\n",
    "Have fun!"
   ]
  },
  {
   "cell_type": "markdown",
   "id": "7866b31a",
   "metadata": {},
   "source": [
    "## Initialise packages and functions\n",
    "----\n",
    "You will need to decide which index, stemming algorithm and keeping stopwords or not in the following cell. You may want to try out different indexes and if you don't have one, follow week1 prac to create one (remember to add `-storeDocvectors`)."
   ]
  },
  {
   "cell_type": "code",
   "execution_count": 9,
   "id": "217abf93",
   "metadata": {},
   "outputs": [],
   "source": [
    "stemming = 'poter'    # None or 'poter' or anything else\n",
    "stopwords = True  # False or True\n",
    "index = 'indexes/lucene-index-msmarco-passage-PoterStemmerStopwords/'\n",
    "\n",
    "\n",
    "# created PoterStemmerStopwords index with vector stored\n",
    "# use stopwords to remove term like 'is' 'the' 'of' to reduce run time"
   ]
  },
  {
   "cell_type": "markdown",
   "id": "d14b1826",
   "metadata": {},
   "source": [
    "Run the following cell to load and cache some useful packages and statistics that you will use later."
   ]
  },
  {
   "cell_type": "code",
   "execution_count": 10,
   "id": "9838cf60",
   "metadata": {},
   "outputs": [
    {
     "name": "stderr",
     "output_type": "stream",
     "text": [
      "loading idf dictionary:: 2660824it [01:11, 37025.82it/s]\n",
      "loading doc_length dictionary:: 100%|█| 8841823/8841823 [02:27<00:00, 59945.84it\n"
     ]
    }
   ],
   "source": [
    "from pyserini.search import SimpleSearcher\n",
    "from pyserini.analysis import Analyzer, get_lucene_analyzer\n",
    "from pyserini.index import IndexReader\n",
    "from tqdm import tqdm\n",
    "\n",
    "lucene_analyzer = get_lucene_analyzer(stemming=stemming, stopwords=stopwords)\n",
    "analyzer = Analyzer(lucene_analyzer)\n",
    "searcher = SimpleSearcher(index)\n",
    "searcher.set_analyzer(lucene_analyzer)\n",
    "index_reader = IndexReader(index)\n",
    "\n",
    "\n",
    "# Create document frequency dictionary to speed up scoring later, this will take around 2 min.\n",
    "df_dict = {}\n",
    "for term in tqdm(index_reader.terms(), desc=\"loading idf dictionary:\"):\n",
    "        df_dict[term.term] = term.df\n",
    "\n",
    "# cache document length and docids for the collection, this will take around 2 mins.\n",
    "doc_len_dict = {}\n",
    "doc_id_dict = {}\n",
    "with open ('collection.tsv', 'r') as f:\n",
    "    lines = f.readlines()\n",
    "    for line in tqdm(lines, desc=\"loading doc_length dictionary:\"):\n",
    "        docid, text = line.split('\\t')\n",
    "        doc_len_dict[docid] = len(text.split())\n",
    "        internal_id = index_reader.convert_collection_docid_to_internal_docid(docid)\n",
    "        doc_id_dict[internal_id] = docid"
   ]
  },
  {
   "cell_type": "markdown",
   "id": "0f99eb38",
   "metadata": {},
   "source": [
    "Understand and run the following cell to define the search function. \n",
    "\n",
    "**NOTE**: This search function is different from the search function in week3 prac. When you implement methods yourself, make sure to use this search function which we implemented with iterating posting lists, do not use the search function from Week 3 prac, as the Week 3 prac is only re-ranking BM25 results."
   ]
  },
  {
   "cell_type": "code",
   "execution_count": 11,
   "id": "7137af31",
   "metadata": {},
   "outputs": [],
   "source": [
    "def search(query: str, k: int=1000, scorer=None):\n",
    "    \"\"\"\n",
    "    Inputs: \n",
    "        query (str): the query string to perform the search.\n",
    "        k (int): the number of documents to be returned.\n",
    "        scorer: your implemented scoring function, such as bm25.\n",
    "    \n",
    "    Output:\n",
    "        results (list): the sorted result list, a list of tuples.\n",
    "                        The first element in the tuples is the docid, \n",
    "                        the second is the doc score.\n",
    "    \"\"\"\n",
    "    \n",
    "    assert scorer is not None\n",
    "    print(\"-----------------------------------------------------\")\n",
    "    print(\"Current query:\", query)\n",
    "\n",
    "    # get the analyzed term list\n",
    "    q_terms = analyzer.analyze(query)\n",
    "    doc_socres = {}\n",
    "    for term in q_terms:\n",
    "        # get the posting list for the current term\n",
    "        postings_list = index_reader.get_postings_list(term, analyzer=None)\n",
    "\n",
    "        if postings_list is not None:\n",
    "            # get the document frequency of the current term\n",
    "            df = df_dict[term]\n",
    "\n",
    "            # iterate the posting list\n",
    "            for posting in tqdm(postings_list, desc=f\"Iterate posting for term '{term}'\"):\n",
    "                internal_id = posting.docid\n",
    "                # convert pyserini internal docid to the actual docid\n",
    "                docid = doc_id_dict[internal_id]\n",
    "                tf = posting.tf\n",
    "                doc_len = doc_len_dict[docid]\n",
    "\n",
    "                # Call the scoring function (you will implement these below).\n",
    "                score = scorer(tf, df, doc_len)\n",
    "                if docid in doc_socres.keys():\n",
    "                    doc_socres[docid] += score\n",
    "                else:\n",
    "                    doc_socres[docid] = score\n",
    "\n",
    "    # Sort the results by the score.\n",
    "    results = [(docid, doc_socre) for docid, doc_socre in doc_socres.items()]\n",
    "    results = sorted(results, key=lambda x: x[1], reverse=True)[:k]\n",
    "    return results\n",
    "    print(\"-----------------------------------------------------\")"
   ]
  },
  {
   "cell_type": "markdown",
   "id": "86a1c957",
   "metadata": {},
   "source": [
    "After this line, feel free to edit this notebook however you like.\n",
    "You can use the following cells as a template to guide you in completing this project.\n",
    "\n",
    "---"
   ]
  },
  {
   "cell_type": "code",
   "execution_count": 1,
   "id": "7acc8bdb",
   "metadata": {},
   "outputs": [],
   "source": [
    "# Import all your python libraries and put setup code here.\n",
    "from collections import Counter\n",
    "import math\n",
    "\n",
    "# read the queries from the .tsv file into a list\n",
    "queries = []\n",
    "with open(\"queries.tsv\", \"r\") as f:\n",
    "    for line in f.readlines():\n",
    "        parts = line.split(\"\\t\")\n",
    "        # parts[0] ~> topic id\n",
    "        # parts[1] ~> query\n",
    "        queries.append((parts[0], parts[1].strip()))\n",
    "\n",
    "# search with bm25 scorer and write the result into a run file\n",
    "def generate_run_file(run_file: str, k: int=1000, scorer=None):\n",
    "    with open(run_file, \"w\") as f:\n",
    "        for topic_id, query in queries:\n",
    "            run = search(query, k=k, scorer = scorer)\n",
    "            for i, r in enumerate(sorted(run, key=lambda x: x[1], reverse=True)):\n",
    "                f.write(f\"{topic_id} Q0 {r[0]} {i} {r[1]} infs7410_project\\n\")\n",
    "\n",
    "# print the evaluations ('map', 'recip_rank', 'ndcg_cut_10', 'recall_1000') \n",
    "# on the run file generated by the method\n",
    "def print_results(run_file, qrel_file='qrel.txt', measures=[\"map\", \"recip_rank\", \"ndcg_cut_10\", \"recall_1000\"]):\n",
    "    with open(run_file, \"r\") as f:\n",
    "        run = pytrec_eval.parse_run(f)\n",
    "    # Open the qrels file.\n",
    "    with open(qrel_file, \"r\") as f:\n",
    "        msmarco_qrels = pytrec_eval.parse_qrel(f)\n",
    "\n",
    "    evaluator = pytrec_eval.RelevanceEvaluator(query_relevance=msmarco_qrels, measures=measures)\n",
    "    results = evaluator.evaluate(run)\n",
    "    for measure in measures:\n",
    "        print('{:25s}{:8s}{:.4f}'.format(measure, 'all', pytrec_eval.compute_aggregated_measure(measure,\n",
    "                                  [query_measures[measure]for query_measures in results.values()]))) \n",
    "\n",
    "        "
   ]
  },
  {
   "cell_type": "markdown",
   "id": "6741aed2",
   "metadata": {},
   "source": [
    "Double-click to edit this markdown cell and describe the first method you are going to implement, e.g., BM25"
   ]
  },
  {
   "cell_type": "code",
   "execution_count": 13,
   "id": "1a981316",
   "metadata": {},
   "outputs": [
    {
     "name": "stdout",
     "output_type": "stream",
     "text": [
      "-----------------------------------------------------\n",
      "Current query: do goldfish grow\n"
     ]
    },
    {
     "name": "stderr",
     "output_type": "stream",
     "text": [
      "Iterate posting for term 'do': 100%|█| 519537/519537 [00:08<00:00, 60950.04it/s]\n",
      "Iterate posting for term 'goldfish': 100%|█| 1397/1397 [00:00<00:00, 323690.35it\n",
      "Iterate posting for term 'grow': 100%|█| 119459/119459 [00:06<00:00, 19292.08it/\n"
     ]
    },
    {
     "name": "stdout",
     "output_type": "stream",
     "text": [
      "-----------------------------------------------------\n",
      "Current query: what is wifi vs bluetooth\n"
     ]
    },
    {
     "name": "stderr",
     "output_type": "stream",
     "text": [
      "Iterate posting for term 'what': 100%|█| 543257/543257 [00:08<00:00, 64662.94it/\n",
      "Iterate posting for term 'wifi': 100%|██| 4475/4475 [00:00<00:00, 321181.24it/s]\n",
      "Iterate posting for term 'vs': 100%|██| 28413/28413 [00:00<00:00, 226294.01it/s]\n",
      "Iterate posting for term 'bluetooth': 100%|█| 4585/4585 [00:00<00:00, 403687.89i\n"
     ]
    },
    {
     "name": "stdout",
     "output_type": "stream",
     "text": [
      "-----------------------------------------------------\n",
      "Current query: why did the us volunterilay enter ww1\n"
     ]
    },
    {
     "name": "stderr",
     "output_type": "stream",
     "text": [
      "Iterate posting for term 'why': 100%|█| 101745/101745 [00:03<00:00, 28651.28it/s\n",
      "Iterate posting for term 'did': 100%|██| 90157/90157 [00:02<00:00, 31386.40it/s]\n",
      "Iterate posting for term 'us': 100%|█| 1562526/1562526 [00:11<00:00, 136733.96it\n",
      "Iterate posting for term 'enter': 100%|█| 105261/105261 [00:00<00:00, 417806.98i\n",
      "Iterate posting for term 'ww1': 100%|█████| 425/425 [00:00<00:00, 283308.84it/s]\n"
     ]
    },
    {
     "name": "stdout",
     "output_type": "stream",
     "text": [
      "-----------------------------------------------------\n",
      "Current query: definition declaratory judgment\n"
     ]
    },
    {
     "name": "stderr",
     "output_type": "stream",
     "text": [
      "Iterate posting for term 'definit': 100%|█| 209713/209713 [00:02<00:00, 72046.74\n",
      "Iterate posting for term 'declaratori': 100%|█| 196/196 [00:00<00:00, 64746.29it\n",
      "Iterate posting for term 'judgment': 100%|█| 11330/11330 [00:00<00:00, 208283.14\n"
     ]
    },
    {
     "name": "stdout",
     "output_type": "stream",
     "text": [
      "-----------------------------------------------------\n",
      "Current query: right pelvic pain causes\n"
     ]
    },
    {
     "name": "stderr",
     "output_type": "stream",
     "text": [
      "Iterate posting for term 'right': 100%|█| 265512/265512 [00:04<00:00, 58863.69it\n",
      "Iterate posting for term 'pelvic': 100%|█| 7529/7529 [00:00<00:00, 221460.33it/s\n",
      "Iterate posting for term 'pain': 100%|█| 159071/159071 [00:04<00:00, 36443.08it/\n",
      "Iterate posting for term 'caus': 100%|█| 442447/442447 [00:06<00:00, 64892.78it/\n"
     ]
    },
    {
     "name": "stdout",
     "output_type": "stream",
     "text": [
      "-----------------------------------------------------\n",
      "Current query: what are the social determinants of health\n"
     ]
    },
    {
     "name": "stderr",
     "output_type": "stream",
     "text": [
      "Iterate posting for term 'what': 100%|█| 543257/543257 [00:06<00:00, 83428.34it/\n",
      "Iterate posting for term 'social': 100%|█| 92070/92070 [00:03<00:00, 26140.15it/\n",
      "Iterate posting for term 'determin': 100%|█| 134190/134190 [00:04<00:00, 29880.9\n",
      "Iterate posting for term 'health': 100%|█| 205466/205466 [00:05<00:00, 36538.50i\n"
     ]
    },
    {
     "name": "stdout",
     "output_type": "stream",
     "text": [
      "-----------------------------------------------------\n",
      "Current query: does legionella pneumophila cause pneumonia\n"
     ]
    },
    {
     "name": "stderr",
     "output_type": "stream",
     "text": [
      "Iterate posting for term 'doe': 100%|█| 262416/262416 [00:05<00:00, 46166.22it/s\n",
      "Iterate posting for term 'legionella': 100%|█| 351/351 [00:00<00:00, 162118.79it\n",
      "Iterate posting for term 'pneumophila': 100%|█| 137/137 [00:00<00:00, 204127.76i\n",
      "Iterate posting for term 'caus': 100%|█| 442447/442447 [00:06<00:00, 66995.51it/\n",
      "Iterate posting for term 'pneumonia': 100%|█| 8920/8920 [00:00<00:00, 252112.15i\n"
     ]
    },
    {
     "name": "stdout",
     "output_type": "stream",
     "text": [
      "-----------------------------------------------------\n",
      "Current query: how is the weather in jamaica\n"
     ]
    },
    {
     "name": "stderr",
     "output_type": "stream",
     "text": [
      "Iterate posting for term 'how': 100%|█| 554924/554924 [00:07<00:00, 70561.02it/s\n",
      "Iterate posting for term 'weather': 100%|█| 90398/90398 [00:02<00:00, 31494.86it\n",
      "Iterate posting for term 'jamaica': 100%|█| 3782/3782 [00:00<00:00, 12468.63it/s\n"
     ]
    },
    {
     "name": "stdout",
     "output_type": "stream",
     "text": [
      "-----------------------------------------------------\n",
      "Current query: types of dysarthria from cerebral palsy\n"
     ]
    },
    {
     "name": "stderr",
     "output_type": "stream",
     "text": [
      "Iterate posting for term 'type': 100%|█| 407766/407766 [00:05<00:00, 73294.73it/\n",
      "Iterate posting for term 'dysarthria': 100%|█| 258/258 [00:00<00:00, 179935.22it\n",
      "Iterate posting for term 'from': 100%|█| 1820739/1820739 [00:11<00:00, 152019.56\n",
      "Iterate posting for term 'cerebr': 100%|█| 6679/6679 [00:00<00:00, 431525.25it/s\n",
      "Iterate posting for term 'palsi': 100%|█| 2569/2569 [00:00<00:00, 329778.02it/s]\n"
     ]
    },
    {
     "name": "stdout",
     "output_type": "stream",
     "text": [
      "-----------------------------------------------------\n",
      "Current query: who is robert gray\n"
     ]
    },
    {
     "name": "stderr",
     "output_type": "stream",
     "text": [
      "Iterate posting for term 'who': 100%|█| 479576/479576 [00:04<00:00, 113882.46it/\n",
      "Iterate posting for term 'robert': 100%|█| 24051/24051 [00:00<00:00, 302354.36it\n",
      "Iterate posting for term 'grai': 100%|█| 15620/15620 [00:00<00:00, 394975.79it/s\n"
     ]
    },
    {
     "name": "stdout",
     "output_type": "stream",
     "text": [
      "-----------------------------------------------------\n",
      "Current query: what types of food can you cook sous vide\n"
     ]
    },
    {
     "name": "stderr",
     "output_type": "stream",
     "text": [
      "Iterate posting for term 'what': 100%|█| 543257/543257 [00:06<00:00, 84450.29it/\n",
      "Iterate posting for term 'type': 100%|█| 407766/407766 [00:05<00:00, 68774.27it/\n",
      "Iterate posting for term 'food': 100%|█| 245010/245010 [00:04<00:00, 49751.00it/\n",
      "Iterate posting for term 'can': 100%|█| 1596800/1596800 [00:10<00:00, 150432.82i\n",
      "Iterate posting for term 'you': 100%|█| 1863902/1863902 [00:08<00:00, 211369.01i\n",
      "Iterate posting for term 'cook': 100%|█| 95968/95968 [00:00<00:00, 439066.42it/s\n",
      "Iterate posting for term 'sou': 100%|█████| 614/614 [00:00<00:00, 279074.84it/s]\n",
      "Iterate posting for term 'vide': 100%|████| 586/586 [00:00<00:00, 220376.77it/s]\n"
     ]
    },
    {
     "name": "stdout",
     "output_type": "stream",
     "text": [
      "-----------------------------------------------------\n",
      "Current query: how long is life cycle of flea\n"
     ]
    },
    {
     "name": "stderr",
     "output_type": "stream",
     "text": [
      "Iterate posting for term 'how': 100%|█| 554924/554924 [00:07<00:00, 78894.01it/s\n",
      "Iterate posting for term 'long': 100%|█| 286932/286932 [00:05<00:00, 51354.08it/\n",
      "Iterate posting for term 'life': 100%|█| 208754/208754 [00:06<00:00, 31549.46it/\n",
      "Iterate posting for term 'cycl': 100%|█| 50349/50349 [00:00<00:00, 146520.94it/s\n",
      "Iterate posting for term 'flea': 100%|████| 5416/5416 [00:01<00:00, 5016.06it/s]\n"
     ]
    },
    {
     "name": "stdout",
     "output_type": "stream",
     "text": [
      "-----------------------------------------------------\n",
      "Current query: what can contour plowing reduce\n"
     ]
    },
    {
     "name": "stderr",
     "output_type": "stream",
     "text": [
      "Iterate posting for term 'what': 100%|█| 543257/543257 [00:07<00:00, 72502.20it/\n",
      "Iterate posting for term 'can': 100%|█| 1596800/1596800 [00:11<00:00, 133566.13i\n",
      "Iterate posting for term 'contour': 100%|█| 2709/2709 [00:00<00:00, 335064.42it/\n",
      "Iterate posting for term 'plow': 100%|██| 1327/1327 [00:00<00:00, 119279.96it/s]\n",
      "Iterate posting for term 'reduc': 100%|█| 114541/114541 [00:00<00:00, 375063.35i\n"
     ]
    },
    {
     "name": "stdout",
     "output_type": "stream",
     "text": [
      "-----------------------------------------------------\n",
      "Current query: when was the salvation army founded\n"
     ]
    },
    {
     "name": "stderr",
     "output_type": "stream",
     "text": [
      "Iterate posting for term 'when': 100%|█| 837448/837448 [00:06<00:00, 126127.79it\n",
      "Iterate posting for term 'salvat': 100%|█| 1571/1571 [00:00<00:00, 413404.33it/s\n",
      "Iterate posting for term 'armi': 100%|█| 31760/31760 [00:00<00:00, 424984.91it/s\n",
      "Iterate posting for term 'found': 100%|█| 282347/282347 [00:05<00:00, 48582.92it\n"
     ]
    },
    {
     "name": "stdout",
     "output_type": "stream",
     "text": [
      "-----------------------------------------------------\n",
      "Current query: what is a active margin\n"
     ]
    },
    {
     "name": "stderr",
     "output_type": "stream",
     "text": [
      "Iterate posting for term 'what': 100%|█| 543257/543257 [00:06<00:00, 80084.75it/\n",
      "Iterate posting for term 'activ': 100%|█| 180996/180996 [00:04<00:00, 42449.76it\n",
      "Iterate posting for term 'margin': 100%|█| 15413/15413 [00:01<00:00, 11009.43it/\n"
     ]
    },
    {
     "name": "stdout",
     "output_type": "stream",
     "text": [
      "-----------------------------------------------------\n",
      "Current query: difference between rn and bsn\n"
     ]
    },
    {
     "name": "stderr",
     "output_type": "stream",
     "text": [
      "Iterate posting for term 'differ': 100%|█| 385674/385674 [00:04<00:00, 92217.62i\n",
      "Iterate posting for term 'between': 100%|█| 416710/416710 [00:09<00:00, 46041.05\n",
      "Iterate posting for term 'rn': 100%|████| 7297/7297 [00:00<00:00, 273664.68it/s]\n",
      "Iterate posting for term 'bsn': 100%|███| 2073/2073 [00:00<00:00, 184281.98it/s]\n"
     ]
    },
    {
     "name": "stdout",
     "output_type": "stream",
     "text": [
      "-----------------------------------------------------\n",
      "Current query: medicare's definition of mechanical ventilation\n"
     ]
    },
    {
     "name": "stderr",
     "output_type": "stream",
     "text": [
      "Iterate posting for term 'medicar': 100%|█| 22027/22027 [00:00<00:00, 243623.65i\n",
      "Iterate posting for term 'definit': 100%|█| 209713/209713 [00:04<00:00, 49361.71\n",
      "Iterate posting for term 'mechan': 100%|█| 46297/46297 [00:00<00:00, 217884.76it\n",
      "Iterate posting for term 'ventil': 100%|█| 6354/6354 [00:00<00:00, 253479.75it/s\n"
     ]
    },
    {
     "name": "stdout",
     "output_type": "stream",
     "text": [
      "-----------------------------------------------------\n",
      "Current query: how to find the midsegment of a trapezoid\n"
     ]
    },
    {
     "name": "stderr",
     "output_type": "stream",
     "text": [
      "Iterate posting for term 'how': 100%|█| 554924/554924 [00:05<00:00, 108863.83it/\n",
      "Iterate posting for term 'find': 100%|█| 309799/309799 [00:06<00:00, 48412.42it/\n",
      "Iterate posting for term 'midseg': 100%|████| 38/38 [00:00<00:00, 102168.94it/s]\n",
      "Iterate posting for term 'trapezoid': 100%|█| 746/746 [00:00<00:00, 302138.93it/\n"
     ]
    },
    {
     "name": "stdout",
     "output_type": "stream",
     "text": [
      "-----------------------------------------------------\n",
      "Current query: what is an aml surveillance analyst\n"
     ]
    },
    {
     "name": "stderr",
     "output_type": "stream",
     "text": [
      "Iterate posting for term 'what': 100%|█| 543257/543257 [00:07<00:00, 76407.53it/\n",
      "Iterate posting for term 'aml': 100%|█████| 626/626 [00:00<00:00, 347766.13it/s]\n",
      "Iterate posting for term 'surveil': 100%|█| 2889/2889 [00:00<00:00, 260554.43it/\n",
      "Iterate posting for term 'analyst': 100%|█| 10565/10565 [00:00<00:00, 295359.74i\n"
     ]
    },
    {
     "name": "stdout",
     "output_type": "stream",
     "text": [
      "-----------------------------------------------------\n",
      "Current query: what is the daily life of thai people\n"
     ]
    },
    {
     "name": "stderr",
     "output_type": "stream",
     "text": [
      "Iterate posting for term 'what': 100%|█| 543257/543257 [00:05<00:00, 90607.24it/\n",
      "Iterate posting for term 'daili': 100%|█| 81220/81220 [00:02<00:00, 32023.66it/s\n",
      "Iterate posting for term 'life': 100%|█| 208754/208754 [00:01<00:00, 105747.98it\n",
      "Iterate posting for term 'thai': 100%|██| 2751/2751 [00:00<00:00, 183951.32it/s]\n",
      "Iterate posting for term 'peopl': 100%|█| 450743/450743 [00:05<00:00, 85914.36it\n"
     ]
    },
    {
     "name": "stdout",
     "output_type": "stream",
     "text": [
      "-----------------------------------------------------\n",
      "Current query: definition of a sigmet\n"
     ]
    },
    {
     "name": "stderr",
     "output_type": "stream",
     "text": [
      "Iterate posting for term 'definit': 100%|█| 209713/209713 [00:05<00:00, 35415.26\n",
      "Iterate posting for term 'sigmet': 100%|█████| 24/24 [00:00<00:00, 39016.78it/s]\n"
     ]
    },
    {
     "name": "stdout",
     "output_type": "stream",
     "text": [
      "-----------------------------------------------------\n",
      "Current query: cost of interior concrete flooring\n"
     ]
    },
    {
     "name": "stderr",
     "output_type": "stream",
     "text": [
      "Iterate posting for term 'cost': 100%|█| 280752/280752 [00:04<00:00, 65868.05it/\n",
      "Iterate posting for term 'interior': 100%|█| 17987/17987 [00:01<00:00, 13984.82i\n",
      "Iterate posting for term 'concret': 100%|█| 21870/21870 [00:00<00:00, 30600.59it\n",
      "Iterate posting for term 'floor': 100%|█| 47208/47208 [00:01<00:00, 34861.39it/s\n"
     ]
    },
    {
     "name": "stdout",
     "output_type": "stream",
     "text": [
      "-----------------------------------------------------\n",
      "Current query: what is the most popular food in switzerland\n"
     ]
    },
    {
     "name": "stderr",
     "output_type": "stream",
     "text": [
      "Iterate posting for term 'what': 100%|█| 543257/543257 [00:06<00:00, 77695.81it/\n",
      "Iterate posting for term 'most': 100%|█| 783496/783496 [00:07<00:00, 99800.41it/\n",
      "Iterate posting for term 'popular': 100%|█| 120453/120453 [00:04<00:00, 29889.21\n",
      "Iterate posting for term 'food': 100%|█| 245010/245010 [00:04<00:00, 51694.77it/\n",
      "Iterate posting for term 'switzerland': 100%|█| 6118/6118 [00:00<00:00, 182468.6\n"
     ]
    },
    {
     "name": "stdout",
     "output_type": "stream",
     "text": [
      "-----------------------------------------------------\n",
      "Current query: how are some sharks warm blooded\n"
     ]
    },
    {
     "name": "stderr",
     "output_type": "stream",
     "text": [
      "Iterate posting for term 'how': 100%|█| 554924/554924 [00:07<00:00, 75289.64it/s\n",
      "Iterate posting for term 'some': 100%|█| 586512/586512 [00:08<00:00, 68907.36it/\n",
      "Iterate posting for term 'shark': 100%|█| 6730/6730 [00:00<00:00, 429782.21it/s]\n",
      "Iterate posting for term 'warm': 100%|█| 56003/56003 [00:03<00:00, 15247.52it/s]\n",
      "Iterate posting for term 'blood': 100%|█| 231732/231732 [00:06<00:00, 33460.84it\n"
     ]
    },
    {
     "name": "stdout",
     "output_type": "stream",
     "text": [
      "-----------------------------------------------------\n",
      "Current query: what is durable medical equipment consist of\n"
     ]
    },
    {
     "name": "stderr",
     "output_type": "stream",
     "text": [
      "Iterate posting for term 'what': 100%|█| 543257/543257 [00:08<00:00, 65180.41it/\n",
      "Iterate posting for term 'durabl': 100%|█| 12890/12890 [00:00<00:00, 283684.43it\n",
      "Iterate posting for term 'medic': 100%|█| 217241/217241 [00:03<00:00, 59989.17it\n",
      "Iterate posting for term 'equip': 100%|█| 49757/49757 [00:02<00:00, 20877.29it/s\n",
      "Iterate posting for term 'consist': 100%|█| 103112/103112 [00:03<00:00, 30880.09\n"
     ]
    },
    {
     "name": "stdout",
     "output_type": "stream",
     "text": [
      "-----------------------------------------------------\n",
      "Current query: exons definition biology\n"
     ]
    },
    {
     "name": "stderr",
     "output_type": "stream",
     "text": [
      "Iterate posting for term 'exon': 100%|█████| 494/494 [00:00<00:00, 67802.81it/s]\n",
      "Iterate posting for term 'definit': 100%|█| 209713/209713 [00:07<00:00, 29382.82\n",
      "Iterate posting for term 'biologi': 100%|█| 14371/14371 [00:00<00:00, 135020.09i\n"
     ]
    },
    {
     "name": "stdout",
     "output_type": "stream",
     "text": [
      "-----------------------------------------------------\n",
      "Current query: define visceral?\n"
     ]
    },
    {
     "name": "stderr",
     "output_type": "stream",
     "text": [
      "Iterate posting for term 'defin': 100%|█| 104566/104566 [00:03<00:00, 31928.98it\n",
      "Iterate posting for term 'viscer': 100%|█| 2498/2498 [00:00<00:00, 21464.92it/s]\n"
     ]
    },
    {
     "name": "stdout",
     "output_type": "stream",
     "text": [
      "-----------------------------------------------------\n",
      "Current query: tracheids are part of _____.\n"
     ]
    },
    {
     "name": "stderr",
     "output_type": "stream",
     "text": [
      "Iterate posting for term 'tracheid': 100%|█| 131/131 [00:00<00:00, 37122.75it/s]\n",
      "Iterate posting for term 'part': 100%|█| 374945/374945 [00:07<00:00, 50535.65it/\n"
     ]
    },
    {
     "name": "stdout",
     "output_type": "stream",
     "text": [
      "-----------------------------------------------------\n",
      "Current query: rsa definition key\n"
     ]
    },
    {
     "name": "stderr",
     "output_type": "stream",
     "text": [
      "Iterate posting for term 'rsa': 100%|█████| 602/602 [00:00<00:00, 182915.89it/s]\n",
      "Iterate posting for term 'definit': 100%|█| 209713/209713 [00:05<00:00, 41353.30\n",
      "Iterate posting for term 'kei': 100%|██| 85915/85915 [00:04<00:00, 20437.70it/s]\n"
     ]
    },
    {
     "name": "stdout",
     "output_type": "stream",
     "text": [
      "-----------------------------------------------------\n",
      "Current query: who formed the commonwealth of independent states\n"
     ]
    },
    {
     "name": "stderr",
     "output_type": "stream",
     "text": [
      "Iterate posting for term 'who': 100%|█| 479576/479576 [00:08<00:00, 57236.94it/s\n",
      "Iterate posting for term 'form': 100%|█| 375314/375314 [00:06<00:00, 56300.12it/\n",
      "Iterate posting for term 'commonwealth': 100%|█| 5243/5243 [00:00<00:00, 139127.\n",
      "Iterate posting for term 'independ': 100%|█| 53041/53041 [00:00<00:00, 228459.60\n",
      "Iterate posting for term 'state': 100%|█| 580608/580608 [00:09<00:00, 64128.43it\n"
     ]
    },
    {
     "name": "stdout",
     "output_type": "stream",
     "text": [
      "-----------------------------------------------------\n",
      "Current query: causes of left ventricular hypertrophy\n"
     ]
    },
    {
     "name": "stderr",
     "output_type": "stream",
     "text": [
      "Iterate posting for term 'caus': 100%|█| 442447/442447 [00:05<00:00, 78729.52it/\n",
      "Iterate posting for term 'left': 100%|█| 115210/115210 [00:04<00:00, 28276.87it/\n",
      "Iterate posting for term 'ventricular': 100%|█| 3361/3361 [00:00<00:00, 213491.4\n",
      "Iterate posting for term 'hypertrophi': 100%|█| 1221/1221 [00:00<00:00, 101068.5\n"
     ]
    },
    {
     "name": "stdout",
     "output_type": "stream",
     "text": [
      "-----------------------------------------------------\n",
      "Current query: lps laws definition\n"
     ]
    },
    {
     "name": "stderr",
     "output_type": "stream",
     "text": [
      "Iterate posting for term 'lp': 100%|████| 2888/2888 [00:00<00:00, 111175.71it/s]\n",
      "Iterate posting for term 'law': 100%|█| 140251/140251 [00:04<00:00, 34910.44it/s\n",
      "Iterate posting for term 'definit': 100%|█| 209713/209713 [00:05<00:00, 41073.54\n"
     ]
    },
    {
     "name": "stdout",
     "output_type": "stream",
     "text": [
      "-----------------------------------------------------\n",
      "Current query: what are the three percenters?\n"
     ]
    },
    {
     "name": "stderr",
     "output_type": "stream",
     "text": [
      "Iterate posting for term 'what': 100%|█| 543257/543257 [00:08<00:00, 60779.75it/\n",
      "Iterate posting for term 'three': 100%|█| 260351/260351 [00:05<00:00, 51331.15it\n",
      "Iterate posting for term 'percent': 100%|█| 114435/114435 [00:00<00:00, 306623.4\n"
     ]
    },
    {
     "name": "stdout",
     "output_type": "stream",
     "text": [
      "-----------------------------------------------------\n",
      "Current query: causes of military suicide\n"
     ]
    },
    {
     "name": "stderr",
     "output_type": "stream",
     "text": [
      "Iterate posting for term 'caus': 100%|█| 442447/442447 [00:05<00:00, 88261.95it/\n",
      "Iterate posting for term 'militari': 100%|█| 43317/43317 [00:03<00:00, 11685.03i\n",
      "Iterate posting for term 'suicid': 100%|█| 7598/7598 [00:00<00:00, 13799.60it/s]\n"
     ]
    },
    {
     "name": "stdout",
     "output_type": "stream",
     "text": [
      "-----------------------------------------------------\n",
      "Current query: what is theraderm used for\n"
     ]
    },
    {
     "name": "stderr",
     "output_type": "stream",
     "text": [
      "Iterate posting for term 'what': 100%|█| 543257/543257 [00:07<00:00, 73633.71it/\n",
      "Iterate posting for term 'theraderm': 100%|████| 5/5 [00:00<00:00, 58743.75it/s]\n",
      "Iterate posting for term 'us': 100%|█| 1562526/1562526 [00:09<00:00, 158877.77it\n"
     ]
    },
    {
     "name": "stdout",
     "output_type": "stream",
     "text": [
      "-----------------------------------------------------\n",
      "Current query: what is famvir prescribed for\n"
     ]
    },
    {
     "name": "stderr",
     "output_type": "stream",
     "text": [
      "Iterate posting for term 'what': 100%|█| 543257/543257 [00:08<00:00, 64071.29it/\n",
      "Iterate posting for term 'famvir': 100%|████| 59/59 [00:00<00:00, 119663.41it/s]\n",
      "Iterate posting for term 'prescrib': 100%|█| 24716/24716 [00:00<00:00, 266583.74\n"
     ]
    },
    {
     "name": "stdout",
     "output_type": "stream",
     "text": [
      "-----------------------------------------------------\n",
      "Current query: anthropological definition of environment\n"
     ]
    },
    {
     "name": "stderr",
     "output_type": "stream",
     "text": [
      "Iterate posting for term 'anthropolog': 100%|█| 1918/1918 [00:00<00:00, 209229.7\n",
      "Iterate posting for term 'definit': 100%|█| 209713/209713 [00:04<00:00, 49056.60\n",
      "Iterate posting for term 'environ': 100%|█| 58660/58660 [00:02<00:00, 26046.02it\n"
     ]
    },
    {
     "name": "stdout",
     "output_type": "stream",
     "text": [
      "-----------------------------------------------------\n",
      "Current query: axon terminals or synaptic knob definition\n"
     ]
    },
    {
     "name": "stderr",
     "output_type": "stream",
     "text": [
      "Iterate posting for term 'axon': 100%|██| 4518/4518 [00:00<00:00, 116527.79it/s]\n",
      "Iterate posting for term 'termin': 100%|█| 26929/26929 [00:00<00:00, 76574.00it/\n",
      "Iterate posting for term 'synapt': 100%|█| 1378/1378 [00:00<00:00, 183222.41it/s\n",
      "Iterate posting for term 'knob': 100%|███| 2649/2649 [00:00<00:00, 58227.66it/s]\n",
      "Iterate posting for term 'definit': 100%|█| 209713/209713 [00:01<00:00, 108650.2\n"
     ]
    },
    {
     "name": "stdout",
     "output_type": "stream",
     "text": [
      "-----------------------------------------------------\n",
      "Current query: is cdg airport in main paris\n"
     ]
    },
    {
     "name": "stderr",
     "output_type": "stream",
     "text": [
      "Iterate posting for term 'cdg': 100%|██████| 193/193 [00:00<00:00, 36033.86it/s]\n",
      "Iterate posting for term 'airport': 100%|█| 40020/40020 [00:02<00:00, 13966.52it\n",
      "Iterate posting for term 'main': 100%|█| 135833/135833 [00:03<00:00, 35773.17it/\n",
      "Iterate posting for term 'pari': 100%|█| 13404/13404 [00:00<00:00, 54028.41it/s]\n"
     ]
    },
    {
     "name": "stdout",
     "output_type": "stream",
     "text": [
      "-----------------------------------------------------\n",
      "Current query: example of monotonic function\n"
     ]
    },
    {
     "name": "stderr",
     "output_type": "stream",
     "text": [
      "Iterate posting for term 'exampl': 100%|█| 289954/289954 [00:05<00:00, 49249.37i\n",
      "Iterate posting for term 'monoton': 100%|█| 405/405 [00:00<00:00, 127510.37it/s]\n",
      "Iterate posting for term 'function': 100%|█| 158133/158133 [00:04<00:00, 31825.8\n"
     ]
    },
    {
     "name": "stdout",
     "output_type": "stream",
     "text": [
      "-----------------------------------------------------\n",
      "Current query: what is physical description of spruce\n"
     ]
    },
    {
     "name": "stderr",
     "output_type": "stream",
     "text": [
      "Iterate posting for term 'what': 100%|█| 543257/543257 [00:07<00:00, 73769.05it/\n",
      "Iterate posting for term 'physic': 100%|█| 95412/95412 [00:01<00:00, 48374.98it/\n",
      "Iterate posting for term 'descript': 100%|█| 50046/50046 [00:01<00:00, 38898.32i\n",
      "Iterate posting for term 'spruce': 100%|█| 1954/1954 [00:00<00:00, 133817.78it/s\n"
     ]
    },
    {
     "name": "stdout",
     "output_type": "stream",
     "text": [
      "-----------------------------------------------------\n",
      "Current query: hydrogen is a liquid below what temperature\n"
     ]
    },
    {
     "name": "stderr",
     "output_type": "stream",
     "text": [
      "Iterate posting for term 'hydrogen': 100%|█| 24145/24145 [00:00<00:00, 169925.42\n",
      "Iterate posting for term 'liquid': 100%|█| 57980/57980 [00:01<00:00, 40657.22it/\n",
      "Iterate posting for term 'below': 100%|█| 206504/206504 [00:02<00:00, 81709.95it\n",
      "Iterate posting for term 'what': 100%|█| 543257/543257 [00:05<00:00, 107023.70it\n",
      "Iterate posting for term 'temperatur': 100%|█| 150790/150790 [00:06<00:00, 24829\n"
     ]
    },
    {
     "name": "stdout",
     "output_type": "stream",
     "text": [
      "-----------------------------------------------------\n",
      "Current query: difference between a mcdouble and a double cheeseburger\n"
     ]
    },
    {
     "name": "stderr",
     "output_type": "stream",
     "text": [
      "Iterate posting for term 'differ': 100%|█| 385674/385674 [00:05<00:00, 72690.63i\n",
      "Iterate posting for term 'between': 100%|█| 416710/416710 [00:06<00:00, 69210.81\n",
      "Iterate posting for term 'mcdoubl': 100%|███| 28/28 [00:00<00:00, 106764.10it/s]\n",
      "Iterate posting for term 'doubl': 100%|█| 51954/51954 [00:00<00:00, 345634.06it/\n",
      "Iterate posting for term 'cheeseburg': 100%|█| 642/642 [00:00<00:00, 300562.92it\n"
     ]
    },
    {
     "name": "stdout",
     "output_type": "stream",
     "text": [
      "map                      all     0.3434\n",
      "recip_rank               all     0.7710\n",
      "ndcg_cut_10              all     0.4520\n",
      "recall_1000              all     0.7264\n"
     ]
    }
   ],
   "source": [
    "# get the total number of documents of current collection\n",
    "\n",
    "N = index_reader.stats()[\"documents\"]\n",
    "\n",
    "# average document length is obtained bt total_terms/total_documents\n",
    "\n",
    "avg_dl = index_reader.stats()[\"total_terms\"]/index_reader.stats()[\"documents\"]\n",
    "\n",
    "# parameter tuning\n",
    "\n",
    "k_1 = 1.2\n",
    "b = 0.75\n",
    "\n",
    "# implementation of BM25\n",
    "\n",
    "def bm25(tf, df, doc_len):\n",
    "    idf = math.log(N/(1+df))\n",
    "    \n",
    "    var_a = tf*(k_1 + 1)\n",
    "    var_b = tf+k_1*(1 - b + (b*doc_len/avg_dl))\n",
    "    \n",
    "    return idf*var_a/var_b\n",
    "\n",
    "# generate the run file\n",
    "\n",
    "generate_run_file(\"project_bm25.run\", k=1000, scorer=bm25)\n",
    "\n",
    "print_results('project_bm25.run')\n"
   ]
  },
  {
   "cell_type": "code",
   "execution_count": 14,
   "id": "8cbcb29c",
   "metadata": {},
   "outputs": [
    {
     "name": "stdout",
     "output_type": "stream",
     "text": [
      "-----------------------------------------------------\n",
      "Current query: do goldfish grow tank tail\n"
     ]
    },
    {
     "name": "stderr",
     "output_type": "stream",
     "text": [
      "Iterate posting for term 'do': 100%|█| 519537/519537 [00:06<00:00, 79986.82it/s]\n",
      "Iterate posting for term 'goldfish': 100%|█| 1397/1397 [00:00<00:00, 312237.17it\n",
      "Iterate posting for term 'grow': 100%|█| 119459/119459 [00:02<00:00, 44455.68it/\n",
      "Iterate posting for term 'tank': 100%|█| 20795/20795 [00:00<00:00, 60403.38it/s]\n",
      "Iterate posting for term 'tail': 100%|█| 18714/18714 [00:00<00:00, 87318.54it/s]\n"
     ]
    },
    {
     "name": "stdout",
     "output_type": "stream",
     "text": [
      "-----------------------------------------------------\n",
      "Current query: what is wifi vs bluetooth dongl iwatch\n"
     ]
    },
    {
     "name": "stderr",
     "output_type": "stream",
     "text": [
      "Iterate posting for term 'what': 100%|█| 543257/543257 [00:05<00:00, 95117.36it/\n",
      "Iterate posting for term 'wifi': 100%|██| 4475/4475 [00:00<00:00, 308963.13it/s]\n",
      "Iterate posting for term 'vs': 100%|██| 28413/28413 [00:00<00:00, 305447.43it/s]\n",
      "Iterate posting for term 'bluetooth': 100%|█| 4585/4585 [00:00<00:00, 413434.03i\n",
      "Iterate posting for term 'dongl': 100%|███| 560/560 [00:00<00:00, 227929.18it/s]\n",
      "Iterate posting for term 'iwatch': 100%|████| 36/36 [00:00<00:00, 149499.94it/s]\n"
     ]
    },
    {
     "name": "stdout",
     "output_type": "stream",
     "text": [
      "-----------------------------------------------------\n",
      "Current query: why did the us volunterilay enter ww1 war germani\n"
     ]
    },
    {
     "name": "stderr",
     "output_type": "stream",
     "text": [
      "Iterate posting for term 'why': 100%|█| 101745/101745 [00:02<00:00, 41287.24it/s\n",
      "Iterate posting for term 'did': 100%|██| 90157/90157 [00:01<00:00, 59632.34it/s]\n",
      "Iterate posting for term 'us': 100%|█| 1562526/1562526 [00:09<00:00, 163652.08it\n",
      "Iterate posting for term 'enter': 100%|█| 105261/105261 [00:00<00:00, 445268.05i\n",
      "Iterate posting for term 'ww1': 100%|█████| 425/425 [00:00<00:00, 212262.35it/s]\n",
      "Iterate posting for term 'war': 100%|██| 88896/88896 [00:03<00:00, 24842.94it/s]\n",
      "Iterate posting for term 'germani': 100%|█| 26337/26337 [00:00<00:00, 94273.85it\n"
     ]
    },
    {
     "name": "stdout",
     "output_type": "stream",
     "text": [
      "-----------------------------------------------------\n",
      "Current query: definition declaratory judgment parti govern\n"
     ]
    },
    {
     "name": "stderr",
     "output_type": "stream",
     "text": [
      "Iterate posting for term 'definit': 100%|█| 209713/209713 [00:03<00:00, 60806.53\n",
      "Iterate posting for term 'declaratori': 100%|█| 196/196 [00:00<00:00, 181635.79i\n",
      "Iterate posting for term 'judgment': 100%|█| 11330/11330 [00:00<00:00, 234400.72\n",
      "Iterate posting for term 'parti': 100%|█| 67124/67124 [00:01<00:00, 46908.56it/s\n",
      "Iterate posting for term 'govern': 100%|█| 120440/120440 [00:01<00:00, 76287.39i\n"
     ]
    },
    {
     "name": "stdout",
     "output_type": "stream",
     "text": [
      "-----------------------------------------------------\n",
      "Current query: right pelvic pain causes abdomin symptom\n"
     ]
    },
    {
     "name": "stderr",
     "output_type": "stream",
     "text": [
      "Iterate posting for term 'right': 100%|█| 265512/265512 [00:04<00:00, 53809.50it\n",
      "Iterate posting for term 'pelvic': 100%|█| 7529/7529 [00:00<00:00, 185451.78it/s\n",
      "Iterate posting for term 'pain': 100%|█| 159071/159071 [00:04<00:00, 32402.12it/\n",
      "Iterate posting for term 'caus': 100%|█| 442447/442447 [00:06<00:00, 65889.03it/\n",
      "Iterate posting for term 'abdomin': 100%|█| 22489/22489 [00:00<00:00, 165458.72i\n",
      "Iterate posting for term 'symptom': 100%|█| 178192/178192 [00:04<00:00, 40393.39\n"
     ]
    },
    {
     "name": "stdout",
     "output_type": "stream",
     "text": [
      "-----------------------------------------------------\n",
      "Current query: what are the social determinants of health factor influenc\n"
     ]
    },
    {
     "name": "stderr",
     "output_type": "stream",
     "text": [
      "Iterate posting for term 'what': 100%|█| 543257/543257 [00:07<00:00, 77106.44it/\n",
      "Iterate posting for term 'social': 100%|█| 92070/92070 [00:00<00:00, 303362.76it\n",
      "Iterate posting for term 'determin': 100%|█| 134190/134190 [00:04<00:00, 30484.2\n",
      "Iterate posting for term 'health': 100%|█| 205466/205466 [00:05<00:00, 40378.83i\n",
      "Iterate posting for term 'factor': 100%|█| 105879/105879 [00:04<00:00, 24207.54i\n",
      "Iterate posting for term 'influenc': 100%|█| 40929/40929 [00:03<00:00, 13506.06i\n"
     ]
    },
    {
     "name": "stdout",
     "output_type": "stream",
     "text": [
      "-----------------------------------------------------\n",
      "Current query: does legionella pneumophila cause pneumonia legionnair bacteria\n"
     ]
    },
    {
     "name": "stderr",
     "output_type": "stream",
     "text": [
      "Iterate posting for term 'doe': 100%|█| 262416/262416 [00:05<00:00, 45854.34it/s\n",
      "Iterate posting for term 'legionella': 100%|█| 351/351 [00:00<00:00, 266896.43it\n",
      "Iterate posting for term 'pneumophila': 100%|█| 137/137 [00:00<00:00, 224198.07i\n",
      "Iterate posting for term 'caus': 100%|█| 442447/442447 [00:05<00:00, 83083.55it/\n",
      "Iterate posting for term 'pneumonia': 100%|█| 8920/8920 [00:00<00:00, 297038.54i\n",
      "Iterate posting for term 'legionnair': 100%|█| 306/306 [00:00<00:00, 229229.69it\n",
      "Iterate posting for term 'bacteria': 100%|█| 59343/59343 [00:02<00:00, 20823.06i\n"
     ]
    },
    {
     "name": "stdout",
     "output_type": "stream",
     "text": [
      "-----------------------------------------------------\n",
      "Current query: how is the weather in jamaica month season\n"
     ]
    },
    {
     "name": "stderr",
     "output_type": "stream",
     "text": [
      "Iterate posting for term 'how': 100%|█| 554924/554924 [00:07<00:00, 78207.03it/s\n",
      "Iterate posting for term 'weather': 100%|█| 90398/90398 [00:00<00:00, 369945.06i\n",
      "Iterate posting for term 'jamaica': 100%|█| 3782/3782 [00:00<00:00, 370532.29it/\n",
      "Iterate posting for term 'month': 100%|█| 234336/234336 [00:05<00:00, 42613.12it\n",
      "Iterate posting for term 'season': 100%|█| 117492/117492 [00:04<00:00, 25901.42i\n"
     ]
    },
    {
     "name": "stdout",
     "output_type": "stream",
     "text": [
      "-----------------------------------------------------\n",
      "Current query: types of dysarthria from cerebral palsy spastic muscl\n"
     ]
    },
    {
     "name": "stderr",
     "output_type": "stream",
     "text": [
      "Iterate posting for term 'type': 100%|█| 407766/407766 [00:06<00:00, 61469.99it/\n",
      "Iterate posting for term 'dysarthria': 100%|█| 258/258 [00:00<00:00, 209755.85it\n",
      "Iterate posting for term 'from': 100%|█| 1820739/1820739 [00:10<00:00, 168823.43\n",
      "Iterate posting for term 'cerebr': 100%|█| 6679/6679 [00:00<00:00, 401625.16it/s\n",
      "Iterate posting for term 'palsi': 100%|█| 2569/2569 [00:00<00:00, 305591.80it/s]\n",
      "Iterate posting for term 'spastic': 100%|█| 1038/1038 [00:00<00:00, 163647.86it/\n",
      "Iterate posting for term 'muscl': 100%|█| 116077/116077 [00:03<00:00, 33526.65it\n"
     ]
    },
    {
     "name": "stdout",
     "output_type": "stream",
     "text": [
      "-----------------------------------------------------\n",
      "Current query: who is robert gray pampa mississippi\n"
     ]
    },
    {
     "name": "stderr",
     "output_type": "stream",
     "text": [
      "Iterate posting for term 'who': 100%|█| 479576/479576 [00:06<00:00, 78821.18it/s\n",
      "Iterate posting for term 'robert': 100%|█| 24051/24051 [00:01<00:00, 20083.33it/\n",
      "Iterate posting for term 'grai': 100%|█| 15620/15620 [00:00<00:00, 54027.89it/s]\n",
      "Iterate posting for term 'pampa': 100%|████| 463/463 [00:00<00:00, 29618.89it/s]\n",
      "Iterate posting for term 'mississippi': 100%|█| 12559/12559 [00:00<00:00, 32758.\n"
     ]
    },
    {
     "name": "stdout",
     "output_type": "stream",
     "text": [
      "-----------------------------------------------------\n",
      "Current query: what types of food can you cook sous vide vacuum veed\n"
     ]
    },
    {
     "name": "stderr",
     "output_type": "stream",
     "text": [
      "Iterate posting for term 'what': 100%|█| 543257/543257 [00:06<00:00, 88334.67it/\n",
      "Iterate posting for term 'type': 100%|█| 407766/407766 [00:05<00:00, 71648.06it/\n",
      "Iterate posting for term 'food': 100%|█| 245010/245010 [00:04<00:00, 53187.30it/\n",
      "Iterate posting for term 'can': 100%|█| 1596800/1596800 [00:14<00:00, 111034.87i\n",
      "Iterate posting for term 'you': 100%|█| 1863902/1863902 [00:09<00:00, 189558.75i\n",
      "Iterate posting for term 'cook': 100%|█| 95968/95968 [00:00<00:00, 442748.90it/s\n",
      "Iterate posting for term 'sou': 100%|█████| 614/614 [00:00<00:00, 283249.30it/s]\n",
      "Iterate posting for term 'vide': 100%|████| 586/586 [00:00<00:00, 202693.56it/s]\n",
      "Iterate posting for term 'vacuum': 100%|█| 9237/9237 [00:00<00:00, 449848.89it/s\n",
      "Iterate posting for term 'veed': 100%|████████| 10/10 [00:00<00:00, 9025.83it/s]\n"
     ]
    },
    {
     "name": "stdout",
     "output_type": "stream",
     "text": [
      "-----------------------------------------------------\n",
      "Current query: how long is life cycle of flea larva egg\n"
     ]
    },
    {
     "name": "stderr",
     "output_type": "stream",
     "text": [
      "Iterate posting for term 'how': 100%|█| 554924/554924 [00:01<00:00, 534939.21it/\n",
      "Iterate posting for term 'long': 100%|█| 286932/286932 [00:05<00:00, 53429.68it/\n",
      "Iterate posting for term 'life': 100%|█| 208754/208754 [00:05<00:00, 38905.91it/\n",
      "Iterate posting for term 'cycl': 100%|█| 50349/50349 [00:01<00:00, 41432.55it/s]\n",
      "Iterate posting for term 'flea': 100%|███| 5416/5416 [00:00<00:00, 93369.57it/s]\n",
      "Iterate posting for term 'larva': 100%|███| 4605/4605 [00:00<00:00, 9671.52it/s]\n",
      "Iterate posting for term 'egg': 100%|██| 62920/62920 [00:01<00:00, 33243.62it/s]\n"
     ]
    },
    {
     "name": "stdout",
     "output_type": "stream",
     "text": [
      "-----------------------------------------------------\n",
      "Current query: what can contour plowing reduce farm plough\n"
     ]
    },
    {
     "name": "stderr",
     "output_type": "stream",
     "text": [
      "Iterate posting for term 'what': 100%|█| 543257/543257 [00:06<00:00, 79449.02it/\n",
      "Iterate posting for term 'can': 100%|█| 1596800/1596800 [00:09<00:00, 176565.21i\n",
      "Iterate posting for term 'contour': 100%|█| 2709/2709 [00:00<00:00, 408028.50it/\n",
      "Iterate posting for term 'plow': 100%|██| 1327/1327 [00:00<00:00, 312144.10it/s]\n",
      "Iterate posting for term 'reduc': 100%|█| 114541/114541 [00:00<00:00, 409335.06i\n",
      "Iterate posting for term 'farm': 100%|█| 27328/27328 [00:00<00:00, 414978.13it/s\n",
      "Iterate posting for term 'plough': 100%|██| 439/439 [00:00<00:00, 223866.20it/s]\n"
     ]
    },
    {
     "name": "stdout",
     "output_type": "stream",
     "text": [
      "-----------------------------------------------------\n",
      "Current query: when was the salvation army founded donat store\n"
     ]
    },
    {
     "name": "stderr",
     "output_type": "stream",
     "text": [
      "Iterate posting for term 'when': 100%|█| 837448/837448 [00:07<00:00, 115836.68it\n",
      "Iterate posting for term 'salvat': 100%|█| 1571/1571 [00:00<00:00, 318968.52it/s\n",
      "Iterate posting for term 'armi': 100%|█| 31760/31760 [00:00<00:00, 415864.91it/s\n",
      "Iterate posting for term 'found': 100%|█| 282347/282347 [00:05<00:00, 53401.45it\n",
      "Iterate posting for term 'donat': 100%|█| 13965/13965 [00:01<00:00, 10651.11it/s\n",
      "Iterate posting for term 'store': 100%|█| 127903/127903 [00:03<00:00, 34581.92it\n"
     ]
    },
    {
     "name": "stdout",
     "output_type": "stream",
     "text": [
      "-----------------------------------------------------\n",
      "Current query: what is a active margin continent plate\n"
     ]
    },
    {
     "name": "stderr",
     "output_type": "stream",
     "text": [
      "Iterate posting for term 'what': 100%|█| 543257/543257 [00:07<00:00, 70525.29it/\n",
      "Iterate posting for term 'activ': 100%|█| 180996/180996 [00:04<00:00, 42648.93it\n",
      "Iterate posting for term 'margin': 100%|█| 15413/15413 [00:01<00:00, 12292.44it/\n",
      "Iterate posting for term 'contin': 100%|█| 13695/13695 [00:00<00:00, 18876.71it/\n",
      "Iterate posting for term 'plate': 100%|█| 34328/34328 [00:01<00:00, 31476.92it/s\n"
     ]
    },
    {
     "name": "stdout",
     "output_type": "stream",
     "text": [
      "-----------------------------------------------------\n",
      "Current query: difference between rn and bsn nurs adn\n"
     ]
    },
    {
     "name": "stderr",
     "output_type": "stream",
     "text": [
      "Iterate posting for term 'differ': 100%|█| 385674/385674 [00:05<00:00, 68068.61i\n",
      "Iterate posting for term 'between': 100%|█| 416710/416710 [00:06<00:00, 64118.42\n",
      "Iterate posting for term 'rn': 100%|████| 7297/7297 [00:00<00:00, 317484.63it/s]\n",
      "Iterate posting for term 'bsn': 100%|███| 2073/2073 [00:00<00:00, 231232.17it/s]\n",
      "Iterate posting for term 'nur': 100%|█████| 249/249 [00:00<00:00, 203781.79it/s]\n",
      "Iterate posting for term 'adn': 100%|█████| 691/691 [00:00<00:00, 198171.90it/s]\n"
     ]
    },
    {
     "name": "stdout",
     "output_type": "stream",
     "text": [
      "-----------------------------------------------------\n",
      "Current query: medicare's definition of mechanical ventilation air breath\n"
     ]
    },
    {
     "name": "stderr",
     "output_type": "stream",
     "text": [
      "Iterate posting for term 'medicar': 100%|█| 22027/22027 [00:00<00:00, 327426.37i\n",
      "Iterate posting for term 'definit': 100%|█| 209713/209713 [00:03<00:00, 56697.99\n",
      "Iterate posting for term 'mechan': 100%|█| 46297/46297 [00:00<00:00, 107204.91it\n",
      "Iterate posting for term 'ventil': 100%|█| 6354/6354 [00:00<00:00, 199166.04it/s\n",
      "Iterate posting for term 'air': 100%|█| 135779/135779 [00:04<00:00, 29119.40it/s\n",
      "Iterate posting for term 'breath': 100%|█| 47113/47113 [00:01<00:00, 26079.40it/\n"
     ]
    },
    {
     "name": "stdout",
     "output_type": "stream",
     "text": [
      "-----------------------------------------------------\n",
      "Current query: how to find the midsegment of a trapezoid length midpoint\n"
     ]
    },
    {
     "name": "stderr",
     "output_type": "stream",
     "text": [
      "Iterate posting for term 'how': 100%|█| 554924/554924 [00:10<00:00, 53881.07it/s\n",
      "Iterate posting for term 'find': 100%|█| 309799/309799 [00:05<00:00, 53012.21it/\n",
      "Iterate posting for term 'midseg': 100%|████| 38/38 [00:00<00:00, 184471.70it/s]\n",
      "Iterate posting for term 'trapezoid': 100%|█| 746/746 [00:00<00:00, 244182.21it/\n",
      "Iterate posting for term 'length': 100%|█| 79824/79824 [00:00<00:00, 301114.43it\n",
      "Iterate posting for term 'midpoint': 100%|█| 1474/1474 [00:00<00:00, 193951.69it\n"
     ]
    },
    {
     "name": "stdout",
     "output_type": "stream",
     "text": [
      "-----------------------------------------------------\n",
      "Current query: what is an aml surveillance analyst launder job\n"
     ]
    },
    {
     "name": "stderr",
     "output_type": "stream",
     "text": [
      "Iterate posting for term 'what': 100%|█| 543257/543257 [00:09<00:00, 58051.89it/\n",
      "Iterate posting for term 'aml': 100%|█████| 626/626 [00:00<00:00, 228355.74it/s]\n",
      "Iterate posting for term 'surveil': 100%|█| 2889/2889 [00:00<00:00, 145211.80it/\n",
      "Iterate posting for term 'analyst': 100%|█| 10565/10565 [00:00<00:00, 244741.09i\n",
      "Iterate posting for term 'launder': 100%|█| 1115/1115 [00:00<00:00, 124286.41it/\n",
      "Iterate posting for term 'job': 100%|█| 136871/136871 [00:04<00:00, 34093.63it/s\n"
     ]
    },
    {
     "name": "stdout",
     "output_type": "stream",
     "text": [
      "-----------------------------------------------------\n",
      "Current query: what is the daily life of thai people sanuk curri\n"
     ]
    },
    {
     "name": "stderr",
     "output_type": "stream",
     "text": [
      "Iterate posting for term 'what': 100%|█| 543257/543257 [00:06<00:00, 82642.03it/\n",
      "Iterate posting for term 'daili': 100%|█| 81220/81220 [00:00<00:00, 185329.19it/\n",
      "Iterate posting for term 'life': 100%|█| 208754/208754 [00:04<00:00, 42545.20it/\n",
      "Iterate posting for term 'thai': 100%|██| 2751/2751 [00:00<00:00, 137337.30it/s]\n",
      "Iterate posting for term 'peopl': 100%|█| 450743/450743 [00:09<00:00, 49932.61it\n",
      "Iterate posting for term 'sanuk': 100%|███████| 14/14 [00:00<00:00, 5575.41it/s]\n",
      "Iterate posting for term 'curri': 100%|█| 4630/4630 [00:00<00:00, 300822.98it/s]\n"
     ]
    },
    {
     "name": "stdout",
     "output_type": "stream",
     "text": [
      "-----------------------------------------------------\n",
      "Current query: definition of a sigmet airmet convect\n"
     ]
    },
    {
     "name": "stderr",
     "output_type": "stream",
     "text": [
      "Iterate posting for term 'definit': 100%|█| 209713/209713 [00:03<00:00, 60716.03\n",
      "Iterate posting for term 'sigmet': 100%|█████| 24/24 [00:00<00:00, 15094.21it/s]\n",
      "Iterate posting for term 'airmet': 100%|█████| 16/16 [00:00<00:00, 82140.59it/s]\n",
      "Iterate posting for term 'convect': 100%|█| 3096/3096 [00:00<00:00, 146633.45it/\n"
     ]
    },
    {
     "name": "stdout",
     "output_type": "stream",
     "text": [
      "-----------------------------------------------------\n",
      "Current query: cost of interior concrete flooring psi 3000\n"
     ]
    },
    {
     "name": "stderr",
     "output_type": "stream",
     "text": [
      "Iterate posting for term 'cost': 100%|█| 280752/280752 [00:04<00:00, 60007.06it/\n",
      "Iterate posting for term 'interior': 100%|█| 17987/17987 [00:00<00:00, 142127.70\n",
      "Iterate posting for term 'concret': 100%|█| 21870/21870 [00:00<00:00, 257127.40i\n",
      "Iterate posting for term 'floor': 100%|█| 47208/47208 [00:01<00:00, 26407.18it/s\n",
      "Iterate posting for term 'psi': 100%|████| 3508/3508 [00:00<00:00, 13664.37it/s]\n",
      "Iterate posting for term '3000': 100%|███| 6066/6066 [00:00<00:00, 42552.00it/s]\n"
     ]
    },
    {
     "name": "stdout",
     "output_type": "stream",
     "text": [
      "-----------------------------------------------------\n",
      "Current query: what is the most popular food in switzerland swiss name\n"
     ]
    },
    {
     "name": "stderr",
     "output_type": "stream",
     "text": [
      "Iterate posting for term 'what': 100%|█| 543257/543257 [00:07<00:00, 70204.26it/\n",
      "Iterate posting for term 'most': 100%|█| 783496/783496 [00:08<00:00, 96086.05it/\n",
      "Iterate posting for term 'popular': 100%|█| 120453/120453 [00:04<00:00, 29135.31\n",
      "Iterate posting for term 'food': 100%|█| 245010/245010 [00:05<00:00, 48409.79it/\n",
      "Iterate posting for term 'switzerland': 100%|█| 6118/6118 [00:00<00:00, 162860.2\n",
      "Iterate posting for term 'swiss': 100%|█| 5296/5296 [00:00<00:00, 199601.34it/s]\n",
      "Iterate posting for term 'name': 100%|█| 392455/392455 [00:08<00:00, 48867.42it/\n"
     ]
    },
    {
     "name": "stdout",
     "output_type": "stream",
     "text": [
      "-----------------------------------------------------\n",
      "Current query: how are some sharks warm blooded whale cold\n"
     ]
    },
    {
     "name": "stderr",
     "output_type": "stream",
     "text": [
      "Iterate posting for term 'how': 100%|█| 554924/554924 [00:06<00:00, 80620.64it/s\n",
      "Iterate posting for term 'some': 100%|█| 586512/586512 [00:07<00:00, 74569.38it/\n",
      "Iterate posting for term 'shark': 100%|█| 6730/6730 [00:00<00:00, 305520.67it/s]\n",
      "Iterate posting for term 'warm': 100%|█| 56003/56003 [00:05<00:00, 10690.16it/s]\n",
      "Iterate posting for term 'blood': 100%|█| 231732/231732 [00:05<00:00, 42889.59it\n",
      "Iterate posting for term 'whale': 100%|██| 6757/6757 [00:00<00:00, 44942.63it/s]\n",
      "Iterate posting for term 'cold': 100%|█| 74029/74029 [00:04<00:00, 16594.51it/s]\n"
     ]
    },
    {
     "name": "stdout",
     "output_type": "stream",
     "text": [
      "-----------------------------------------------------\n",
      "Current query: what is durable medical equipment consist of dme medicar\n"
     ]
    },
    {
     "name": "stderr",
     "output_type": "stream",
     "text": [
      "Iterate posting for term 'what': 100%|█| 543257/543257 [00:07<00:00, 68108.09it/\n",
      "Iterate posting for term 'durabl': 100%|█| 12890/12890 [00:00<00:00, 280279.83it\n",
      "Iterate posting for term 'medic': 100%|█| 217241/217241 [00:04<00:00, 53307.12it\n",
      "Iterate posting for term 'equip': 100%|█| 49757/49757 [00:02<00:00, 18316.93it/s\n",
      "Iterate posting for term 'consist': 100%|█| 103112/103112 [00:02<00:00, 35534.15\n",
      "Iterate posting for term 'dme': 100%|█████| 594/594 [00:00<00:00, 110288.47it/s]\n",
      "Iterate posting for term 'medicar': 100%|█| 22027/22027 [00:00<00:00, 69655.46it\n"
     ]
    },
    {
     "name": "stdout",
     "output_type": "stream",
     "text": [
      "-----------------------------------------------------\n",
      "Current query: exons definition biology intron gene\n"
     ]
    },
    {
     "name": "stderr",
     "output_type": "stream",
     "text": [
      "Iterate posting for term 'exon': 100%|█████| 494/494 [00:00<00:00, 57561.57it/s]\n",
      "Iterate posting for term 'definit': 100%|█| 209713/209713 [00:05<00:00, 38614.59\n",
      "Iterate posting for term 'biologi': 100%|█| 14371/14371 [00:00<00:00, 128741.14i\n",
      "Iterate posting for term 'intron': 100%|██| 478/478 [00:00<00:00, 159598.58it/s]\n",
      "Iterate posting for term 'gene': 100%|█| 31590/31590 [00:00<00:00, 158849.25it/s\n"
     ]
    },
    {
     "name": "stdout",
     "output_type": "stream",
     "text": [
      "-----------------------------------------------------\n",
      "Current query: define visceral? pleura splanchnic\n"
     ]
    },
    {
     "name": "stderr",
     "output_type": "stream",
     "text": [
      "Iterate posting for term 'defin': 100%|█| 104566/104566 [00:05<00:00, 20457.74it\n",
      "Iterate posting for term 'viscer': 100%|█| 2498/2498 [00:00<00:00, 101759.59it/s\n",
      "Iterate posting for term 'pleura': 100%|█| 1152/1152 [00:00<00:00, 175136.40it/s\n",
      "Iterate posting for term 'splanchnic': 100%|█| 122/122 [00:00<00:00, 77460.66it/\n"
     ]
    },
    {
     "name": "stdout",
     "output_type": "stream",
     "text": [
      "-----------------------------------------------------\n",
      "Current query: tracheids are part of _____. vessel xylem\n"
     ]
    },
    {
     "name": "stderr",
     "output_type": "stream",
     "text": [
      "Iterate posting for term 'tracheid': 100%|██| 131/131 [00:00<00:00, 4530.79it/s]\n",
      "Iterate posting for term 'part': 100%|█| 374945/374945 [00:07<00:00, 52335.19it/\n",
      "Iterate posting for term 'vessel': 100%|█| 41629/41629 [00:02<00:00, 20549.90it/\n",
      "Iterate posting for term 'xylem': 100%|██| 1395/1395 [00:00<00:00, 39973.86it/s]\n"
     ]
    },
    {
     "name": "stdout",
     "output_type": "stream",
     "text": [
      "-----------------------------------------------------\n",
      "Current query: rsa definition key encrypt algorithm\n"
     ]
    },
    {
     "name": "stderr",
     "output_type": "stream",
     "text": [
      "Iterate posting for term 'rsa': 100%|███████| 602/602 [00:00<00:00, 5425.62it/s]\n",
      "Iterate posting for term 'definit': 100%|█| 209713/209713 [00:05<00:00, 40101.19\n",
      "Iterate posting for term 'kei': 100%|██| 85915/85915 [00:04<00:00, 17827.66it/s]\n",
      "Iterate posting for term 'encrypt': 100%|█| 4402/4402 [00:00<00:00, 57536.61it/s\n",
      "Iterate posting for term 'algorithm': 100%|█| 4261/4261 [00:00<00:00, 77894.71it\n"
     ]
    },
    {
     "name": "stdout",
     "output_type": "stream",
     "text": [
      "-----------------------------------------------------\n",
      "Current query: who formed the commonwealth of independent states soviet ð\n"
     ]
    },
    {
     "name": "stderr",
     "output_type": "stream",
     "text": [
      "Iterate posting for term 'who': 100%|█| 479576/479576 [00:07<00:00, 64658.02it/s\n",
      "Iterate posting for term 'form': 100%|█| 375314/375314 [00:06<00:00, 60553.50it/\n",
      "Iterate posting for term 'commonwealth': 100%|█| 5243/5243 [00:00<00:00, 212050.\n",
      "Iterate posting for term 'independ': 100%|█| 53041/53041 [00:00<00:00, 263310.30\n",
      "Iterate posting for term 'state': 100%|█| 580608/580608 [00:09<00:00, 61478.84it\n",
      "Iterate posting for term 'soviet': 100%|█| 8186/8186 [00:00<00:00, 248785.03it/s\n",
      "Iterate posting for term 'ð': 100%|█████| 3927/3927 [00:00<00:00, 175430.90it/s]\n"
     ]
    },
    {
     "name": "stdout",
     "output_type": "stream",
     "text": [
      "-----------------------------------------------------\n",
      "Current query: causes of left ventricular hypertrophy ventricl heart\n"
     ]
    },
    {
     "name": "stderr",
     "output_type": "stream",
     "text": [
      "Iterate posting for term 'caus': 100%|█| 442447/442447 [00:04<00:00, 92885.45it/\n",
      "Iterate posting for term 'left': 100%|█| 115210/115210 [00:02<00:00, 39371.03it/\n",
      "Iterate posting for term 'ventricular': 100%|█| 3361/3361 [00:00<00:00, 25029.39\n",
      "Iterate posting for term 'hypertrophi': 100%|█| 1221/1221 [00:00<00:00, 7850.97i\n",
      "Iterate posting for term 'ventricl': 100%|█| 7786/7786 [00:00<00:00, 87413.38it/\n",
      "Iterate posting for term 'heart': 100%|█| 127167/127167 [00:03<00:00, 36605.20it\n"
     ]
    },
    {
     "name": "stdout",
     "output_type": "stream",
     "text": [
      "-----------------------------------------------------\n",
      "Current query: lps laws definition partner ethyl\n"
     ]
    },
    {
     "name": "stderr",
     "output_type": "stream",
     "text": [
      "Iterate posting for term 'lp': 100%|████| 2888/2888 [00:00<00:00, 114972.43it/s]\n",
      "Iterate posting for term 'law': 100%|█| 140251/140251 [00:03<00:00, 44075.79it/s\n",
      "Iterate posting for term 'definit': 100%|█| 209713/209713 [00:04<00:00, 43161.77\n",
      "Iterate posting for term 'partner': 100%|█| 33133/33133 [00:01<00:00, 21241.74it\n",
      "Iterate posting for term 'ethyl': 100%|███| 1628/1628 [00:00<00:00, 8128.98it/s]\n"
     ]
    },
    {
     "name": "stdout",
     "output_type": "stream",
     "text": [
      "-----------------------------------------------------\n",
      "Current query: what are the three percenters? brain outlet\n"
     ]
    },
    {
     "name": "stderr",
     "output_type": "stream",
     "text": [
      "Iterate posting for term 'what': 100%|█| 543257/543257 [00:07<00:00, 76446.41it/\n",
      "Iterate posting for term 'three': 100%|█| 260351/260351 [00:06<00:00, 41263.35it\n",
      "Iterate posting for term 'percent': 100%|█| 114435/114435 [00:04<00:00, 27958.05\n",
      "Iterate posting for term 'brain': 100%|█| 78521/78521 [00:02<00:00, 32229.38it/s\n",
      "Iterate posting for term 'outlet': 100%|█| 10144/10144 [00:00<00:00, 19265.72it/\n"
     ]
    },
    {
     "name": "stdout",
     "output_type": "stream",
     "text": [
      "-----------------------------------------------------\n",
      "Current query: causes of military suicide veteran death\n"
     ]
    },
    {
     "name": "stderr",
     "output_type": "stream",
     "text": [
      "Iterate posting for term 'caus': 100%|█| 442447/442447 [00:06<00:00, 68243.99it/\n",
      "Iterate posting for term 'militari': 100%|█| 43317/43317 [00:01<00:00, 22848.13i\n",
      "Iterate posting for term 'suicid': 100%|█| 7598/7598 [00:00<00:00, 24531.68it/s]\n",
      "Iterate posting for term 'veteran': 100%|█| 15088/15088 [00:00<00:00, 44560.87it\n",
      "Iterate posting for term 'death': 100%|█| 81460/81460 [00:01<00:00, 59906.10it/s\n"
     ]
    },
    {
     "name": "stdout",
     "output_type": "stream",
     "text": [
      "-----------------------------------------------------\n",
      "Current query: what is theraderm used for do hibachi\n"
     ]
    },
    {
     "name": "stderr",
     "output_type": "stream",
     "text": [
      "Iterate posting for term 'what': 100%|█| 543257/543257 [00:06<00:00, 88212.06it/\n",
      "Iterate posting for term 'theraderm': 100%|████| 5/5 [00:00<00:00, 23045.63it/s]\n",
      "Iterate posting for term 'us': 100%|█| 1562526/1562526 [00:11<00:00, 137514.60it\n",
      "Iterate posting for term 'do': 100%|█| 519537/519537 [00:04<00:00, 108986.20it/s\n",
      "Iterate posting for term 'hibachi': 100%|█| 177/177 [00:00<00:00, 263820.83it/s]\n"
     ]
    },
    {
     "name": "stdout",
     "output_type": "stream",
     "text": [
      "-----------------------------------------------------\n",
      "Current query: what is famvir prescribed for valtrex famciclovir\n"
     ]
    },
    {
     "name": "stderr",
     "output_type": "stream",
     "text": [
      "Iterate posting for term 'what': 100%|█| 543257/543257 [00:05<00:00, 103204.04it\n",
      "Iterate posting for term 'famvir': 100%|████| 59/59 [00:00<00:00, 190944.40it/s]\n",
      "Iterate posting for term 'prescrib': 100%|█| 24716/24716 [00:00<00:00, 335099.62\n",
      "Iterate posting for term 'valtrex': 100%|█| 307/307 [00:00<00:00, 282441.62it/s]\n",
      "Iterate posting for term 'famciclovir': 100%|█| 83/83 [00:00<00:00, 136520.48it/\n"
     ]
    },
    {
     "name": "stdout",
     "output_type": "stream",
     "text": [
      "-----------------------------------------------------\n",
      "Current query: anthropological definition of environment cultur ecolog\n"
     ]
    },
    {
     "name": "stderr",
     "output_type": "stream",
     "text": [
      "Iterate posting for term 'anthropolog': 100%|█| 1918/1918 [00:00<00:00, 309255.9\n",
      "Iterate posting for term 'definit': 100%|█| 209713/209713 [00:03<00:00, 59151.43\n",
      "Iterate posting for term 'environ': 100%|█| 58660/58660 [00:01<00:00, 30942.28it\n",
      "Iterate posting for term 'cultur': 100%|█| 62598/62598 [00:01<00:00, 49108.26it/\n",
      "Iterate posting for term 'ecolog': 100%|█| 5293/5293 [00:00<00:00, 56361.77it/s]\n"
     ]
    },
    {
     "name": "stdout",
     "output_type": "stream",
     "text": [
      "-----------------------------------------------------\n",
      "Current query: axon terminals or synaptic knob definition neuron membran\n"
     ]
    },
    {
     "name": "stderr",
     "output_type": "stream",
     "text": [
      "Iterate posting for term 'axon': 100%|███| 4518/4518 [00:00<00:00, 37510.30it/s]\n",
      "Iterate posting for term 'termin': 100%|█| 26929/26929 [00:00<00:00, 31580.76it/\n",
      "Iterate posting for term 'synapt': 100%|█| 1378/1378 [00:00<00:00, 115159.71it/s\n",
      "Iterate posting for term 'knob': 100%|███| 2649/2649 [00:00<00:00, 92053.05it/s]\n",
      "Iterate posting for term 'definit': 100%|█| 209713/209713 [00:03<00:00, 61350.46\n",
      "Iterate posting for term 'neuron': 100%|█| 13009/13009 [00:00<00:00, 53708.45it/\n",
      "Iterate posting for term 'membran': 100%|█| 34600/34600 [00:01<00:00, 18380.30it\n"
     ]
    },
    {
     "name": "stdout",
     "output_type": "stream",
     "text": [
      "-----------------------------------------------------\n",
      "Current query: is cdg airport in main paris gaull charl\n"
     ]
    },
    {
     "name": "stderr",
     "output_type": "stream",
     "text": [
      "Iterate posting for term 'cdg': 100%|██████| 193/193 [00:00<00:00, 17331.46it/s]\n",
      "Iterate posting for term 'airport': 100%|█| 40020/40020 [00:02<00:00, 19711.04it\n",
      "Iterate posting for term 'main': 100%|█| 135833/135833 [00:03<00:00, 39933.40it/\n",
      "Iterate posting for term 'pari': 100%|█| 13404/13404 [00:00<00:00, 75165.25it/s]\n",
      "Iterate posting for term 'gaull': 100%|███| 341/341 [00:00<00:00, 140386.50it/s]\n",
      "Iterate posting for term 'charl': 100%|█| 17275/17275 [00:00<00:00, 53228.38it/s\n"
     ]
    },
    {
     "name": "stdout",
     "output_type": "stream",
     "text": [
      "-----------------------------------------------------\n",
      "Current query: example of monotonic function concav x\n"
     ]
    },
    {
     "name": "stderr",
     "output_type": "stream",
     "text": [
      "Iterate posting for term 'exampl': 100%|█| 289954/289954 [00:05<00:00, 54368.91i\n",
      "Iterate posting for term 'monoton': 100%|█| 405/405 [00:00<00:00, 219724.89it/s]\n",
      "Iterate posting for term 'function': 100%|█| 158133/158133 [00:04<00:00, 35463.5\n",
      "Iterate posting for term 'concav': 100%|█| 1377/1377 [00:00<00:00, 60660.60it/s]\n",
      "Iterate posting for term 'x': 100%|████| 81505/81505 [00:02<00:00, 36720.60it/s]\n"
     ]
    },
    {
     "name": "stdout",
     "output_type": "stream",
     "text": [
      "-----------------------------------------------------\n",
      "Current query: what is physical description of spruce fir tree\n"
     ]
    },
    {
     "name": "stderr",
     "output_type": "stream",
     "text": [
      "Iterate posting for term 'what': 100%|█| 543257/543257 [00:09<00:00, 60000.33it/\n",
      "Iterate posting for term 'physic': 100%|█| 95412/95412 [00:00<00:00, 218539.27it\n",
      "Iterate posting for term 'descript': 100%|█| 50046/50046 [00:03<00:00, 15378.35i\n",
      "Iterate posting for term 'spruce': 100%|█| 1954/1954 [00:00<00:00, 97747.87it/s]\n",
      "Iterate posting for term 'fir': 100%|███| 1550/1550 [00:00<00:00, 103485.58it/s]\n",
      "Iterate posting for term 'tree': 100%|█| 63668/63668 [00:02<00:00, 24663.29it/s]\n"
     ]
    },
    {
     "name": "stdout",
     "output_type": "stream",
     "text": [
      "-----------------------------------------------------\n",
      "Current query: hydrogen is a liquid below what temperature ga flammabl\n"
     ]
    },
    {
     "name": "stderr",
     "output_type": "stream",
     "text": [
      "Iterate posting for term 'hydrogen': 100%|█| 24145/24145 [00:01<00:00, 14517.41i\n",
      "Iterate posting for term 'liquid': 100%|█| 57980/57980 [00:02<00:00, 28640.05it/\n",
      "Iterate posting for term 'below': 100%|█| 206504/206504 [00:05<00:00, 39723.58it\n",
      "Iterate posting for term 'what': 100%|█| 543257/543257 [00:07<00:00, 74888.36it/\n",
      "Iterate posting for term 'temperatur': 100%|█| 150790/150790 [00:03<00:00, 42595\n",
      "Iterate posting for term 'ga': 100%|███| 84051/84051 [00:04<00:00, 18497.29it/s]\n",
      "Iterate posting for term 'flammabl': 100%|█| 2805/2805 [00:00<00:00, 60884.22it/\n"
     ]
    },
    {
     "name": "stdout",
     "output_type": "stream",
     "text": [
      "-----------------------------------------------------\n",
      "Current query: difference between a mcdouble and a double cheeseburger chees mcdonald\n"
     ]
    },
    {
     "name": "stderr",
     "output_type": "stream",
     "text": [
      "Iterate posting for term 'differ': 100%|█| 385674/385674 [00:06<00:00, 56017.35i\n",
      "Iterate posting for term 'between': 100%|█| 416710/416710 [00:07<00:00, 54704.64\n",
      "Iterate posting for term 'mcdoubl': 100%|███| 28/28 [00:00<00:00, 108439.99it/s]\n",
      "Iterate posting for term 'doubl': 100%|█| 51954/51954 [00:00<00:00, 215657.25it/\n",
      "Iterate posting for term 'cheeseburg': 100%|█| 642/642 [00:00<00:00, 172589.61it\n",
      "Iterate posting for term 'chee': 100%|████| 203/203 [00:00<00:00, 160862.22it/s]\n",
      "Iterate posting for term 'mcdonald': 100%|█| 4310/4310 [00:00<00:00, 245404.14it\n"
     ]
    }
   ],
   "source": [
    "def prf_query_expansion(query: str, n: int, m: int):\n",
    "    hits = searcher.search(query, k=50)\n",
    "    rank = {}\n",
    "    q_terms = analyzer.analyze(query)\n",
    "    #print(len(hits))\n",
    "    if(len(hits) < n):\n",
    "        n = len(hits)\n",
    "    #print(n)\n",
    "    for i in range(0, n):\n",
    "        tf = index_reader.get_document_vector(hits[i].docid)        \n",
    "        #df = {term: (index_reader.get_term_counts(term, analyzer=None))[0] for term in tf.keys()}\n",
    "        c = list((Counter(tf.keys()) - Counter(q_terms)).elements())\n",
    "        result = []\n",
    "        \n",
    "        for term in c:\n",
    "            if term in df_dict.keys():\n",
    "                result.append(term)\n",
    "\n",
    "        for term in result:\n",
    "            tfidf = (tf[term]*math.log(N/(1+df_dict[term])))\n",
    "            if term not in rank:\n",
    "                rank[term] = tfidf\n",
    "            else:\n",
    "                rank[term] += tfidf\n",
    "    \n",
    "    sorted_rank = dict(sorted(rank.items(), key=lambda item: item[1], reverse=True))\n",
    "    expanded_query = query\n",
    "    top_terms = list(sorted_rank.keys())[:m]\n",
    "    \n",
    "    for i in top_terms:\n",
    "        expanded_query += ' '\n",
    "        expanded_query += i\n",
    "\n",
    "    return expanded_query\n",
    "\n",
    "#print(queries)\n",
    "\n",
    "def prf_expansion_search(run_file: str, k: int=1000, n: int=5, m: int=10):\n",
    "                \n",
    "    with open(run_file, \"w\") as f:\n",
    "        for topic_id, query in queries:\n",
    "            expanded_query = prf_query_expansion(query, n, m)\n",
    "            run = search(expanded_query, k=k, scorer = bm25)    \n",
    "            for i, r in enumerate(sorted(run, key=lambda x: x[1], reverse=True)):\n",
    "                f.write(f\"{topic_id} Q0 {r[0]} {i} {r[1]} infs7410_project\\n\")\n",
    "                \n",
    "prf_expansion_search(\"project_prf_exp.run\", k=1000, n=20, m=2)\n"
   ]
  },
  {
   "cell_type": "code",
   "execution_count": 15,
   "id": "10e76502",
   "metadata": {},
   "outputs": [
    {
     "name": "stdout",
     "output_type": "stream",
     "text": [
      "map                      all     0.3195\n",
      "recip_rank               all     0.7008\n",
      "ndcg_cut_10              all     0.4117\n",
      "recall_1000              all     0.7591\n"
     ]
    }
   ],
   "source": [
    "# tuning parameter of m and n using the pref_exp_search method in prac5\n",
    "# (n, m) map/ndcg_10/recall_1000\n",
    "# (30,3) 33 43 73\n",
    "\n",
    "# (20,20)29 40 71 \n",
    "# (20,10)32 42 72\n",
    "# (20,5) 31 42 74\n",
    "# (20,3) 34 44 73\n",
    "# (20,2) 35 45 75\n",
    "\n",
    "# (10,10)30 43 70\n",
    "# (10,5) 31 42 71\n",
    "# (10,3) 30 41 71\n",
    "# (10,1) 33 47 74\n",
    "\n",
    "# (5,10) 29 45 68\n",
    "# (5,5)  31 43 70\n",
    "# (3,3)  31 44 66\n",
    "\n",
    "#n=10 m=5\n",
    "#map                      all     0.2842\n",
    "#recip_rank               all     0.6941\n",
    "#ndcg_cut_10              all     0.4232\n",
    "#recall_1000              all     0.7106\n",
    "\n",
    "#n=10 m=1\n",
    "#map                      all     0.3216\n",
    "#recip_rank               all     0.6798\n",
    "#ndcg_cut_10              all     0.4395\n",
    "#recall_1000              all     0.7307\n",
    "\n",
    "print_results(\"project_prf_exp.run\")\n"
   ]
  },
  {
   "cell_type": "code",
   "execution_count": 16,
   "id": "ce9ab49b",
   "metadata": {},
   "outputs": [
    {
     "name": "stdout",
     "output_type": "stream",
     "text": [
      "-----------------------------------------------------\n",
      "Current query: goldfish grow do\n"
     ]
    },
    {
     "name": "stderr",
     "output_type": "stream",
     "text": [
      "Iterate posting for term 'goldfish': 100%|█| 1397/1397 [00:00<00:00, 46818.24it/\n",
      "Iterate posting for term 'grow': 100%|█| 119459/119459 [00:04<00:00, 28542.75it/\n",
      "Iterate posting for term 'do': 100%|█| 519537/519537 [00:07<00:00, 70030.30it/s]\n"
     ]
    },
    {
     "name": "stdout",
     "output_type": "stream",
     "text": [
      "-----------------------------------------------------\n",
      "Current query: wifi bluetooth vs what\n"
     ]
    },
    {
     "name": "stderr",
     "output_type": "stream",
     "text": [
      "Iterate posting for term 'wifi': 100%|██| 4475/4475 [00:00<00:00, 257313.97it/s]\n",
      "Iterate posting for term 'bluetooth': 100%|█| 4585/4585 [00:00<00:00, 240377.03i\n",
      "Iterate posting for term 'vs': 100%|██| 28413/28413 [00:00<00:00, 253545.04it/s]\n",
      "Iterate posting for term 'what': 100%|█| 543257/543257 [00:06<00:00, 78851.46it/\n"
     ]
    },
    {
     "name": "stdout",
     "output_type": "stream",
     "text": [
      "-----------------------------------------------------\n",
      "Current query: volunterilai ww1 did why enter\n"
     ]
    },
    {
     "name": "stderr",
     "output_type": "stream",
     "text": [
      "Iterate posting for term 'ww1': 100%|█████| 425/425 [00:00<00:00, 216279.93it/s]\n",
      "Iterate posting for term 'did': 100%|██| 90157/90157 [00:03<00:00, 25521.80it/s]\n",
      "Iterate posting for term 'why': 100%|█| 101745/101745 [00:03<00:00, 25972.07it/s\n",
      "Iterate posting for term 'enter': 100%|█| 105261/105261 [00:03<00:00, 29086.62it\n"
     ]
    },
    {
     "name": "stdout",
     "output_type": "stream",
     "text": [
      "-----------------------------------------------------\n",
      "Current query: declaratori judgment definit\n"
     ]
    },
    {
     "name": "stderr",
     "output_type": "stream",
     "text": [
      "Iterate posting for term 'declaratori': 100%|█| 196/196 [00:00<00:00, 134789.90i\n",
      "Iterate posting for term 'judgment': 100%|█| 11330/11330 [00:01<00:00, 10253.95i\n",
      "Iterate posting for term 'definit': 100%|█| 209713/209713 [00:05<00:00, 41689.63\n"
     ]
    },
    {
     "name": "stdout",
     "output_type": "stream",
     "text": [
      "-----------------------------------------------------\n",
      "Current query: pelvic pain right caus\n"
     ]
    },
    {
     "name": "stderr",
     "output_type": "stream",
     "text": [
      "Iterate posting for term 'pelvic': 100%|█| 7529/7529 [00:00<00:00, 58123.63it/s]\n",
      "Iterate posting for term 'pain': 100%|█| 159071/159071 [00:04<00:00, 36168.53it/\n",
      "Iterate posting for term 'right': 100%|█| 265512/265512 [00:05<00:00, 49362.17it\n",
      "Iterate posting for term 'cau': 100%|█████| 124/124 [00:00<00:00, 128259.85it/s]\n"
     ]
    },
    {
     "name": "stdout",
     "output_type": "stream",
     "text": [
      "-----------------------------------------------------\n",
      "Current query: social determin health what\n"
     ]
    },
    {
     "name": "stderr",
     "output_type": "stream",
     "text": [
      "Iterate posting for term 'social': 100%|█| 92070/92070 [00:03<00:00, 26746.11it/\n",
      "Iterate posting for term 'determin': 100%|█| 134190/134190 [00:02<00:00, 50640.7\n",
      "Iterate posting for term 'health': 100%|█| 205466/205466 [00:06<00:00, 30187.33i\n",
      "Iterate posting for term 'what': 100%|█| 543257/543257 [00:07<00:00, 74574.65it/\n"
     ]
    },
    {
     "name": "stdout",
     "output_type": "stream",
     "text": [
      "-----------------------------------------------------\n",
      "Current query: pneumophila legionella pneumonia doe caus\n"
     ]
    },
    {
     "name": "stderr",
     "output_type": "stream",
     "text": [
      "Iterate posting for term 'pneumophila': 100%|█| 137/137 [00:00<00:00, 269142.69i\n",
      "Iterate posting for term 'legionella': 100%|█| 351/351 [00:00<00:00, 305689.51it\n",
      "Iterate posting for term 'pneumonia': 100%|█| 8920/8920 [00:00<00:00, 392933.80i\n",
      "Iterate posting for term 'doe': 100%|█| 262416/262416 [00:05<00:00, 50136.45it/s\n",
      "Iterate posting for term 'cau': 100%|█████| 124/124 [00:00<00:00, 134217.73it/s]\n"
     ]
    },
    {
     "name": "stdout",
     "output_type": "stream",
     "text": [
      "-----------------------------------------------------\n",
      "Current query: jamaica weather how\n"
     ]
    },
    {
     "name": "stderr",
     "output_type": "stream",
     "text": [
      "Iterate posting for term 'jamaica': 100%|█| 3782/3782 [00:00<00:00, 167708.30it/\n",
      "Iterate posting for term 'weather': 100%|█| 90398/90398 [00:02<00:00, 31802.68it\n",
      "Iterate posting for term 'how': 100%|█| 554924/554924 [00:06<00:00, 85354.87it/s\n"
     ]
    },
    {
     "name": "stdout",
     "output_type": "stream",
     "text": [
      "-----------------------------------------------------\n",
      "Current query: dysarthria palsi cerebr type from\n"
     ]
    },
    {
     "name": "stderr",
     "output_type": "stream",
     "text": [
      "Iterate posting for term 'dysarthria': 100%|█| 258/258 [00:00<00:00, 257711.46it\n",
      "Iterate posting for term 'palsi': 100%|█| 2569/2569 [00:00<00:00, 312423.29it/s]\n",
      "Iterate posting for term 'cerebr': 100%|█| 6679/6679 [00:00<00:00, 296592.52it/s\n",
      "Iterate posting for term 'type': 100%|█| 407766/407766 [00:05<00:00, 73958.05it/\n",
      "Iterate posting for term 'from': 100%|█| 1820739/1820739 [00:11<00:00, 157271.15\n"
     ]
    },
    {
     "name": "stdout",
     "output_type": "stream",
     "text": [
      "-----------------------------------------------------\n",
      "Current query: grai robert who\n"
     ]
    },
    {
     "name": "stderr",
     "output_type": "stream",
     "text": [
      "Iterate posting for term 'grai': 100%|█| 15620/15620 [00:00<00:00, 372562.00it/s\n",
      "Iterate posting for term 'robert': 100%|█| 24051/24051 [00:00<00:00, 460555.01it\n",
      "Iterate posting for term 'who': 100%|█| 479576/479576 [00:04<00:00, 101147.93it/\n"
     ]
    },
    {
     "name": "stdout",
     "output_type": "stream",
     "text": [
      "-----------------------------------------------------\n",
      "Current query: vide sou cook food type\n"
     ]
    },
    {
     "name": "stderr",
     "output_type": "stream",
     "text": [
      "Iterate posting for term 'vide': 100%|████| 586/586 [00:00<00:00, 230611.95it/s]\n",
      "Iterate posting for term 'sou': 100%|█████| 614/614 [00:00<00:00, 128048.06it/s]\n",
      "Iterate posting for term 'cook': 100%|█| 95968/95968 [00:03<00:00, 31663.44it/s]\n",
      "Iterate posting for term 'food': 100%|█| 245010/245010 [00:03<00:00, 76172.37it/\n",
      "Iterate posting for term 'type': 100%|█| 407766/407766 [00:06<00:00, 65027.68it/\n"
     ]
    },
    {
     "name": "stdout",
     "output_type": "stream",
     "text": [
      "-----------------------------------------------------\n",
      "Current query: flea cycl life long how\n"
     ]
    },
    {
     "name": "stderr",
     "output_type": "stream",
     "text": [
      "Iterate posting for term 'flea': 100%|██| 5416/5416 [00:00<00:00, 206236.67it/s]\n",
      "Iterate posting for term 'cycl': 100%|█| 50349/50349 [00:02<00:00, 22300.22it/s]\n",
      "Iterate posting for term 'life': 100%|█| 208754/208754 [00:07<00:00, 29501.52it/\n",
      "Iterate posting for term 'long': 100%|█| 286932/286932 [00:06<00:00, 47386.42it/\n",
      "Iterate posting for term 'how': 100%|█| 554924/554924 [00:06<00:00, 79476.21it/s\n"
     ]
    },
    {
     "name": "stdout",
     "output_type": "stream",
     "text": [
      "-----------------------------------------------------\n",
      "Current query: plow contour reduc what can\n"
     ]
    },
    {
     "name": "stderr",
     "output_type": "stream",
     "text": [
      "Iterate posting for term 'plow': 100%|██| 1327/1327 [00:00<00:00, 308870.22it/s]\n",
      "Iterate posting for term 'contour': 100%|█| 2709/2709 [00:00<00:00, 100563.51it/\n",
      "Iterate posting for term 'reduc': 100%|█| 114541/114541 [00:03<00:00, 37378.70it\n",
      "Iterate posting for term 'what': 100%|█| 543257/543257 [00:09<00:00, 56115.54it/\n",
      "Iterate posting for term 'can': 100%|█| 1596800/1596800 [00:10<00:00, 159316.27i\n"
     ]
    },
    {
     "name": "stdout",
     "output_type": "stream",
     "text": [
      "-----------------------------------------------------\n",
      "Current query: salvat armi found when\n"
     ]
    },
    {
     "name": "stderr",
     "output_type": "stream",
     "text": [
      "Iterate posting for term 'salvat': 100%|█| 1571/1571 [00:00<00:00, 238102.61it/s\n",
      "Iterate posting for term 'armi': 100%|█| 31760/31760 [00:00<00:00, 394828.23it/s\n",
      "Iterate posting for term 'found': 100%|█| 282347/282347 [00:00<00:00, 464154.60i\n",
      "Iterate posting for term 'when': 100%|█| 837448/837448 [00:07<00:00, 110039.83it\n"
     ]
    },
    {
     "name": "stdout",
     "output_type": "stream",
     "text": [
      "-----------------------------------------------------\n",
      "Current query: margin activ what\n"
     ]
    },
    {
     "name": "stderr",
     "output_type": "stream",
     "text": [
      "Iterate posting for term 'margin': 100%|█| 15413/15413 [00:00<00:00, 191658.54it\n",
      "Iterate posting for term 'activ': 100%|█| 180996/180996 [00:04<00:00, 40745.39it\n",
      "Iterate posting for term 'what': 100%|█| 543257/543257 [00:05<00:00, 93272.35it/\n"
     ]
    },
    {
     "name": "stdout",
     "output_type": "stream",
     "text": [
      "-----------------------------------------------------\n",
      "Current query: bsn rn differ between\n"
     ]
    },
    {
     "name": "stderr",
     "output_type": "stream",
     "text": [
      "Iterate posting for term 'bsn': 100%|███| 2073/2073 [00:00<00:00, 221033.43it/s]\n",
      "Iterate posting for term 'rn': 100%|████| 7297/7297 [00:00<00:00, 299942.53it/s]\n",
      "Iterate posting for term 'differ': 100%|█| 385674/385674 [00:06<00:00, 58763.17i\n",
      "Iterate posting for term 'between': 100%|█| 416710/416710 [00:06<00:00, 68581.37\n"
     ]
    },
    {
     "name": "stdout",
     "output_type": "stream",
     "text": [
      "-----------------------------------------------------\n",
      "Current query: ventil medicar mechan definit\n"
     ]
    },
    {
     "name": "stderr",
     "output_type": "stream",
     "text": [
      "Iterate posting for term 'ventil': 100%|█| 6354/6354 [00:00<00:00, 147171.81it/s\n",
      "Iterate posting for term 'medicar': 100%|█| 22027/22027 [00:00<00:00, 251918.77i\n",
      "Iterate posting for term 'mechan': 100%|█| 46297/46297 [00:02<00:00, 20103.79it/\n",
      "Iterate posting for term 'definit': 100%|█| 209713/209713 [00:03<00:00, 53464.36\n"
     ]
    },
    {
     "name": "stdout",
     "output_type": "stream",
     "text": [
      "-----------------------------------------------------\n",
      "Current query: midseg trapezoid find how\n"
     ]
    },
    {
     "name": "stderr",
     "output_type": "stream",
     "text": [
      "Iterate posting for term 'midseg': 100%|█████| 38/38 [00:00<00:00, 55553.70it/s]\n",
      "Iterate posting for term 'trapezoid': 100%|█| 746/746 [00:00<00:00, 135864.12it/\n",
      "Iterate posting for term 'find': 100%|█| 309799/309799 [00:05<00:00, 57737.65it/\n",
      "Iterate posting for term 'how': 100%|█| 554924/554924 [00:06<00:00, 90047.12it/s\n"
     ]
    },
    {
     "name": "stdout",
     "output_type": "stream",
     "text": [
      "-----------------------------------------------------\n",
      "Current query: aml surveil analyst what\n"
     ]
    },
    {
     "name": "stderr",
     "output_type": "stream",
     "text": [
      "Iterate posting for term 'aml': 100%|█████| 626/626 [00:00<00:00, 316494.01it/s]\n",
      "Iterate posting for term 'surveil': 100%|█| 2889/2889 [00:00<00:00, 28261.50it/s\n",
      "Iterate posting for term 'analyst': 100%|█| 10565/10565 [00:00<00:00, 470726.94i\n",
      "Iterate posting for term 'what': 100%|█| 543257/543257 [00:08<00:00, 67145.70it/\n"
     ]
    },
    {
     "name": "stdout",
     "output_type": "stream",
     "text": [
      "-----------------------------------------------------\n",
      "Current query: thai daili life peopl what\n"
     ]
    },
    {
     "name": "stderr",
     "output_type": "stream",
     "text": [
      "Iterate posting for term 'thai': 100%|██| 2751/2751 [00:00<00:00, 209156.39it/s]\n",
      "Iterate posting for term 'daili': 100%|█| 81220/81220 [00:04<00:00, 19072.54it/s\n",
      "Iterate posting for term 'life': 100%|█| 208754/208754 [00:03<00:00, 55275.44it/\n",
      "Iterate posting for term 'peopl': 100%|█| 450743/450743 [00:06<00:00, 71423.69it\n",
      "Iterate posting for term 'what': 100%|█| 543257/543257 [00:07<00:00, 76553.90it/\n"
     ]
    },
    {
     "name": "stdout",
     "output_type": "stream",
     "text": [
      "-----------------------------------------------------\n",
      "Current query: sigmet definit\n"
     ]
    },
    {
     "name": "stderr",
     "output_type": "stream",
     "text": [
      "Iterate posting for term 'sigmet': 100%|█████| 24/24 [00:00<00:00, 82714.29it/s]\n",
      "Iterate posting for term 'definit': 100%|█| 209713/209713 [00:03<00:00, 68502.61\n"
     ]
    },
    {
     "name": "stdout",
     "output_type": "stream",
     "text": [
      "-----------------------------------------------------\n",
      "Current query: interior concret floor cost\n"
     ]
    },
    {
     "name": "stderr",
     "output_type": "stream",
     "text": [
      "Iterate posting for term 'interior': 100%|█| 17987/17987 [00:00<00:00, 197253.99\n",
      "Iterate posting for term 'concret': 100%|█| 21870/21870 [00:00<00:00, 25573.54it\n",
      "Iterate posting for term 'floor': 100%|█| 47208/47208 [00:00<00:00, 52262.12it/s\n",
      "Iterate posting for term 'cost': 100%|█| 280752/280752 [00:03<00:00, 71201.05it/\n"
     ]
    },
    {
     "name": "stdout",
     "output_type": "stream",
     "text": [
      "-----------------------------------------------------\n",
      "Current query: switzerland popular food what most\n"
     ]
    },
    {
     "name": "stderr",
     "output_type": "stream",
     "text": [
      "Iterate posting for term 'switzerland': 100%|█| 6118/6118 [00:00<00:00, 117436.7\n",
      "Iterate posting for term 'popular': 100%|█| 120453/120453 [00:03<00:00, 34874.50\n",
      "Iterate posting for term 'food': 100%|█| 245010/245010 [00:04<00:00, 51329.21it/\n",
      "Iterate posting for term 'what': 100%|█| 543257/543257 [00:06<00:00, 77751.03it/\n",
      "Iterate posting for term 'most': 100%|█| 783496/783496 [00:07<00:00, 104032.47it\n"
     ]
    },
    {
     "name": "stdout",
     "output_type": "stream",
     "text": [
      "-----------------------------------------------------\n",
      "Current query: shark warm blood how some\n"
     ]
    },
    {
     "name": "stderr",
     "output_type": "stream",
     "text": [
      "Iterate posting for term 'shark': 100%|█| 6730/6730 [00:00<00:00, 417285.07it/s]\n",
      "Iterate posting for term 'warm': 100%|█| 56003/56003 [00:00<00:00, 455012.94it/s\n",
      "Iterate posting for term 'blood': 100%|█| 231732/231732 [00:04<00:00, 52530.98it\n",
      "Iterate posting for term 'how': 100%|█| 554924/554924 [00:06<00:00, 91343.10it/s\n",
      "Iterate posting for term 'some': 100%|█| 586512/586512 [00:07<00:00, 75931.10it/\n"
     ]
    },
    {
     "name": "stdout",
     "output_type": "stream",
     "text": [
      "-----------------------------------------------------\n",
      "Current query: durabl equip consist medic what\n"
     ]
    },
    {
     "name": "stderr",
     "output_type": "stream",
     "text": [
      "Iterate posting for term 'durabl': 100%|█| 12890/12890 [00:00<00:00, 372792.32it\n",
      "Iterate posting for term 'equip': 100%|█| 49757/49757 [00:00<00:00, 397045.76it/\n",
      "Iterate posting for term 'consist': 100%|█| 103112/103112 [00:03<00:00, 33597.58\n",
      "Iterate posting for term 'medic': 100%|█| 217241/217241 [00:02<00:00, 79606.58it\n",
      "Iterate posting for term 'what': 100%|█| 543257/543257 [00:06<00:00, 88852.98it/\n"
     ]
    },
    {
     "name": "stdout",
     "output_type": "stream",
     "text": [
      "-----------------------------------------------------\n",
      "Current query: exon biologi definit\n"
     ]
    },
    {
     "name": "stderr",
     "output_type": "stream",
     "text": [
      "Iterate posting for term 'exon': 100%|████| 494/494 [00:00<00:00, 305152.60it/s]\n",
      "Iterate posting for term 'biologi': 100%|█| 14371/14371 [00:00<00:00, 443302.93i\n",
      "Iterate posting for term 'definit': 100%|█| 209713/209713 [00:05<00:00, 36683.40\n"
     ]
    },
    {
     "name": "stdout",
     "output_type": "stream",
     "text": [
      "-----------------------------------------------------\n",
      "Current query: viscer defin\n"
     ]
    },
    {
     "name": "stderr",
     "output_type": "stream",
     "text": [
      "Iterate posting for term 'viscer': 100%|█| 2498/2498 [00:00<00:00, 177477.28it/s\n",
      "Iterate posting for term 'defin': 100%|█| 104566/104566 [00:04<00:00, 23091.59it\n"
     ]
    },
    {
     "name": "stdout",
     "output_type": "stream",
     "text": [
      "-----------------------------------------------------\n",
      "Current query: tracheid part\n"
     ]
    },
    {
     "name": "stderr",
     "output_type": "stream",
     "text": [
      "Iterate posting for term 'tracheid': 100%|█| 131/131 [00:00<00:00, 78583.21it/s]\n",
      "Iterate posting for term 'part': 100%|█| 374945/374945 [00:06<00:00, 60872.58it/\n"
     ]
    },
    {
     "name": "stdout",
     "output_type": "stream",
     "text": [
      "-----------------------------------------------------\n",
      "Current query: rsa kei definit\n"
     ]
    },
    {
     "name": "stderr",
     "output_type": "stream",
     "text": [
      "Iterate posting for term 'rsa': 100%|█████| 602/602 [00:00<00:00, 199020.34it/s]\n",
      "Iterate posting for term 'kei': 100%|██| 85915/85915 [00:03<00:00, 21665.19it/s]\n",
      "Iterate posting for term 'definit': 100%|█| 209713/209713 [00:04<00:00, 47863.10\n"
     ]
    },
    {
     "name": "stdout",
     "output_type": "stream",
     "text": [
      "-----------------------------------------------------\n",
      "Current query: commonwealth independ form who state\n"
     ]
    },
    {
     "name": "stderr",
     "output_type": "stream",
     "text": [
      "Iterate posting for term 'commonwealth': 100%|█| 5243/5243 [00:00<00:00, 81444.7\n",
      "Iterate posting for term 'independ': 100%|█| 53041/53041 [00:00<00:00, 189945.19\n",
      "Iterate posting for term 'form': 100%|█| 375314/375314 [00:07<00:00, 49858.13it/\n",
      "Iterate posting for term 'who': 100%|█| 479576/479576 [00:06<00:00, 72404.52it/s\n",
      "Iterate posting for term 'state': 100%|█| 580608/580608 [00:07<00:00, 78517.26it\n"
     ]
    },
    {
     "name": "stdout",
     "output_type": "stream",
     "text": [
      "-----------------------------------------------------\n",
      "Current query: hypertrophi ventricular left caus\n"
     ]
    },
    {
     "name": "stderr",
     "output_type": "stream",
     "text": [
      "Iterate posting for term 'hypertrophi': 100%|█| 1221/1221 [00:00<00:00, 165714.6\n",
      "Iterate posting for term 'ventricular': 100%|█| 3361/3361 [00:00<00:00, 258202.0\n",
      "Iterate posting for term 'left': 100%|█| 115210/115210 [00:02<00:00, 48285.92it/\n",
      "Iterate posting for term 'cau': 100%|██████| 124/124 [00:00<00:00, 13957.75it/s]\n"
     ]
    },
    {
     "name": "stdout",
     "output_type": "stream",
     "text": [
      "-----------------------------------------------------\n",
      "Current query: lp law definit\n"
     ]
    },
    {
     "name": "stderr",
     "output_type": "stream",
     "text": [
      "Iterate posting for term 'lp': 100%|█████| 2888/2888 [00:00<00:00, 23345.43it/s]\n",
      "Iterate posting for term 'law': 100%|█| 140251/140251 [00:04<00:00, 34410.20it/s\n",
      "Iterate posting for term 'definit': 100%|█| 209713/209713 [00:03<00:00, 52686.40\n"
     ]
    },
    {
     "name": "stdout",
     "output_type": "stream",
     "text": [
      "-----------------------------------------------------\n",
      "Current query: percent three what\n"
     ]
    },
    {
     "name": "stderr",
     "output_type": "stream",
     "text": [
      "Iterate posting for term 'percent': 100%|█| 114435/114435 [00:03<00:00, 33916.68\n",
      "Iterate posting for term 'three': 100%|█| 260351/260351 [00:05<00:00, 51272.18it\n",
      "Iterate posting for term 'what': 100%|█| 543257/543257 [00:05<00:00, 91081.78it/\n"
     ]
    },
    {
     "name": "stdout",
     "output_type": "stream",
     "text": [
      "-----------------------------------------------------\n",
      "Current query: suicid militari caus\n"
     ]
    },
    {
     "name": "stderr",
     "output_type": "stream",
     "text": [
      "Iterate posting for term 'suicid': 100%|█| 7598/7598 [00:00<00:00, 389840.87it/s\n",
      "Iterate posting for term 'militari': 100%|█| 43317/43317 [00:00<00:00, 435123.87\n",
      "Iterate posting for term 'cau': 100%|█████| 124/124 [00:00<00:00, 214914.75it/s]\n"
     ]
    },
    {
     "name": "stdout",
     "output_type": "stream",
     "text": [
      "-----------------------------------------------------\n",
      "Current query: theraderm what us\n"
     ]
    },
    {
     "name": "stderr",
     "output_type": "stream",
     "text": [
      "Iterate posting for term 'theraderm': 100%|████| 5/5 [00:00<00:00, 45392.90it/s]\n",
      "Iterate posting for term 'what': 100%|█| 543257/543257 [00:06<00:00, 90399.02it/\n",
      "Iterate posting for term 'us': 100%|█| 1562526/1562526 [00:09<00:00, 157092.87it\n"
     ]
    },
    {
     "name": "stdout",
     "output_type": "stream",
     "text": [
      "-----------------------------------------------------\n",
      "Current query: famvir prescrib what\n"
     ]
    },
    {
     "name": "stderr",
     "output_type": "stream",
     "text": [
      "Iterate posting for term 'famvir': 100%|█████| 59/59 [00:00<00:00, 42107.19it/s]\n",
      "Iterate posting for term 'prescrib': 100%|█| 24716/24716 [00:00<00:00, 486000.88\n",
      "Iterate posting for term 'what': 100%|█| 543257/543257 [00:06<00:00, 82413.73it/\n"
     ]
    },
    {
     "name": "stdout",
     "output_type": "stream",
     "text": [
      "-----------------------------------------------------\n",
      "Current query: anthropolog environ definit\n"
     ]
    },
    {
     "name": "stderr",
     "output_type": "stream",
     "text": [
      "Iterate posting for term 'anthropolog': 100%|█| 1918/1918 [00:00<00:00, 290337.6\n",
      "Iterate posting for term 'environ': 100%|█| 58660/58660 [00:02<00:00, 20497.97it\n",
      "Iterate posting for term 'definit': 100%|█| 209713/209713 [00:04<00:00, 51241.10\n"
     ]
    },
    {
     "name": "stdout",
     "output_type": "stream",
     "text": [
      "-----------------------------------------------------\n",
      "Current query: synapt knob axon termin definit\n"
     ]
    },
    {
     "name": "stderr",
     "output_type": "stream",
     "text": [
      "Iterate posting for term 'synapt': 100%|█| 1378/1378 [00:00<00:00, 142263.79it/s\n",
      "Iterate posting for term 'knob': 100%|██| 2649/2649 [00:00<00:00, 198966.93it/s]\n",
      "Iterate posting for term 'axon': 100%|██| 4518/4518 [00:00<00:00, 245451.86it/s]\n",
      "Iterate posting for term 'termin': 100%|█| 26929/26929 [00:01<00:00, 22526.26it/\n",
      "Iterate posting for term 'definit': 100%|█| 209713/209713 [00:02<00:00, 71481.41\n"
     ]
    },
    {
     "name": "stdout",
     "output_type": "stream",
     "text": [
      "-----------------------------------------------------\n",
      "Current query: cdg pari airport main\n"
     ]
    },
    {
     "name": "stderr",
     "output_type": "stream",
     "text": [
      "Iterate posting for term 'cdg': 100%|██████| 193/193 [00:00<00:00, 25519.39it/s]\n",
      "Iterate posting for term 'pari': 100%|█| 13404/13404 [00:00<00:00, 34383.96it/s]\n",
      "Iterate posting for term 'airport': 100%|█| 40020/40020 [00:01<00:00, 21740.32it\n",
      "Iterate posting for term 'main': 100%|█| 135833/135833 [00:03<00:00, 38867.37it/\n"
     ]
    },
    {
     "name": "stdout",
     "output_type": "stream",
     "text": [
      "-----------------------------------------------------\n",
      "Current query: monoton function exampl\n"
     ]
    },
    {
     "name": "stderr",
     "output_type": "stream",
     "text": [
      "Iterate posting for term 'monoton': 100%|██| 405/405 [00:00<00:00, 43227.04it/s]\n",
      "Iterate posting for term 'function': 100%|█| 158133/158133 [00:04<00:00, 39180.2\n",
      "Iterate posting for term 'exampl': 100%|█| 289954/289954 [00:07<00:00, 41271.99i\n"
     ]
    },
    {
     "name": "stdout",
     "output_type": "stream",
     "text": [
      "-----------------------------------------------------\n",
      "Current query: spruce descript physic what\n"
     ]
    },
    {
     "name": "stderr",
     "output_type": "stream",
     "text": [
      "Iterate posting for term 'spruce': 100%|█| 1954/1954 [00:00<00:00, 26581.01it/s]\n",
      "Iterate posting for term 'descript': 100%|█| 50046/50046 [00:02<00:00, 20123.69i\n",
      "Iterate posting for term 'physic': 100%|█| 95412/95412 [00:02<00:00, 40515.61it/\n",
      "Iterate posting for term 'what': 100%|█| 543257/543257 [00:07<00:00, 75210.71it/\n"
     ]
    },
    {
     "name": "stdout",
     "output_type": "stream",
     "text": [
      "-----------------------------------------------------\n",
      "Current query: hydrogen liquid temperatur below what\n"
     ]
    },
    {
     "name": "stderr",
     "output_type": "stream",
     "text": [
      "Iterate posting for term 'hydrogen': 100%|█| 24145/24145 [00:00<00:00, 268361.21\n",
      "Iterate posting for term 'liquid': 100%|█| 57980/57980 [00:00<00:00, 387000.58it\n",
      "Iterate posting for term 'temperatur': 100%|█| 150790/150790 [00:03<00:00, 46033\n",
      "Iterate posting for term 'below': 100%|█| 206504/206504 [00:04<00:00, 44191.34it\n",
      "Iterate posting for term 'what': 100%|█| 543257/543257 [00:08<00:00, 63019.31it/\n"
     ]
    },
    {
     "name": "stdout",
     "output_type": "stream",
     "text": [
      "-----------------------------------------------------\n",
      "Current query: mcdoubl cheeseburg doubl differ between\n"
     ]
    },
    {
     "name": "stderr",
     "output_type": "stream",
     "text": [
      "Iterate posting for term 'mcdoubl': 100%|███| 28/28 [00:00<00:00, 104577.48it/s]\n",
      "Iterate posting for term 'cheeseburg': 100%|█| 642/642 [00:00<00:00, 145090.96it\n",
      "Iterate posting for term 'doubl': 100%|█| 51954/51954 [00:00<00:00, 298306.99it/\n",
      "Iterate posting for term 'differ': 100%|█| 385674/385674 [00:04<00:00, 78569.13i\n",
      "Iterate posting for term 'between': 100%|█| 416710/416710 [00:06<00:00, 66900.22\n"
     ]
    },
    {
     "name": "stdout",
     "output_type": "stream",
     "text": [
      "map                      all     0.3412\n",
      "recip_rank               all     0.7239\n",
      "ndcg_cut_10              all     0.4387\n",
      "recall_1000              all     0.7208\n"
     ]
    }
   ],
   "source": [
    "def idfr_query_reduction(query: str, n: int):\n",
    "    terms = analyzer.analyze(query)\n",
    "    terms = list(dict.fromkeys(terms))\n",
    "\n",
    "    idf = {}\n",
    "    df = {term: (index_reader.get_term_counts(term, analyzer=None))[0] for term in terms}\n",
    "\n",
    "    for term in terms:\n",
    "        term_idf = math.log(N/(1+df[term]))\n",
    "        idf[term] = term_idf\n",
    "\n",
    "    sorted_idf = dict(sorted(idf.items(), key=lambda item: item[1], reverse=True)) \n",
    "    top_idf = list(sorted_idf.keys())[:n]\n",
    "    pruned_query = ' '.join(top_idf)\n",
    "    return pruned_query\n",
    "\n",
    "def idfr_reduction_search(run_file: str, k: int=1000, n: int=10):\n",
    "    with open(run_file, \"w\") as f:\n",
    "        for topic_id, query in queries:\n",
    "            reduced_query = idfr_query_reduction(query, n)\n",
    "            run = search(reduced_query, k=k, scorer = bm25)    \n",
    "            for i, r in enumerate(sorted(run, key=lambda x: x[1], reverse=True)):\n",
    "                f.write(f\"{topic_id} Q0 {r[0]} {i} {r[1]} infs7410_project\\n\")\n",
    "    \n",
    "\n",
    "\n",
    "                \n",
    "idfr_reduction_search(\"project_idfr_redu.run\", k=1000, n=5)\n",
    "\n",
    "# tuning parameter using idfr_redu method from prac4\n",
    "\n",
    "# n=3 0.3558 0.4666 0.6801\n",
    "# n=5 0.3544 0.4805 0.6879\n",
    "# n=8 0.3565 0.4854 0.6881\n",
    "\n",
    "# I think to great extent the n should depend on the average length of queries\n",
    "# n might be set as dynamic parameter for the best\n",
    "# in current situation, the average length(number of terms) of two query lists is about 5-6\n",
    "# thus, I choose n = 5 as parameter\n",
    "\n",
    "print_results(\"project_idfr_redu.run\")\n"
   ]
  },
  {
   "cell_type": "code",
   "execution_count": 17,
   "id": "d5812ae1",
   "metadata": {},
   "outputs": [],
   "source": [
    "from sklearn.preprocessing import minmax_scale\n",
    "from collections import defaultdict\n",
    "import pytrec_eval\n",
    "import numpy as np\n",
    "from pprint import pprint\n",
    "\n",
    "\n",
    "def normalise_run(run):\n",
    "    for k, v in run.items():\n",
    "        #print(k,v)\n",
    "        r = [(docid, score) for docid, score in v.items()]\n",
    "        scores = minmax_scale([x[1] for x in r])\n",
    "        run[k] = dict(zip([x[0] for x in r], scores))\n",
    "    return run\n",
    "\n",
    "def fusion_run(run_file: str, runs:dict):\n",
    "    with open(run_file, \"w\") as f:\n",
    "        for topic_id, d in runs.items():\n",
    "            index = 0\n",
    "            for i, r in d.items():\n",
    "                f.write(f\"{topic_id} Q0 {i} {index} {format(r,'.15f')} infs7410_project\\n\")\n",
    "                index+=1\n",
    "\n",
    "\n",
    "with open(\"project_bm25.run\", \"r\") as f:\n",
    "    proj_bm25_run = normalise_run(pytrec_eval.parse_run(f))\n",
    "    \n",
    "with open(\"project_prf_exp.run\", \"r\") as f:\n",
    "    proj_prf_exp_run = normalise_run(pytrec_eval.parse_run(f))\n",
    "    \n",
    "with open(\"project_idfr_redu.run\", \"r\") as f:\n",
    "    proj_idfr_redu_run = normalise_run(pytrec_eval.parse_run(f))\n",
    "    \n",
    "runs = [proj_bm25_run, proj_prf_exp_run, proj_idfr_redu_run]\n",
    "            "
   ]
  },
  {
   "cell_type": "code",
   "execution_count": 18,
   "id": "42d741d1",
   "metadata": {},
   "outputs": [
    {
     "name": "stdout",
     "output_type": "stream",
     "text": [
      "map                      all     0.3873\n",
      "recip_rank               all     0.7910\n",
      "ndcg_cut_10              all     0.4858\n",
      "recall_1000              all     0.7717\n"
     ]
    }
   ],
   "source": [
    "def borda(runs):\n",
    "    seen = {}\n",
    "    for run in runs:\n",
    "        for topic, results in run.items():\n",
    "            # print(topic, results)\n",
    "            if topic not in seen:\n",
    "                seen[topic] = {}\n",
    "            # print(results.keys())\n",
    "            for i, docid in enumerate(results.keys()):\n",
    "                # print(i, docid)\n",
    "                n = len(results)\n",
    "                rd = i\n",
    "                score = (n-i+1)/n\n",
    "                if docid not in seen[topic]:\n",
    "                    seen[topic][docid] = score\n",
    "                else:\n",
    "                    seen[topic][docid] += score\n",
    "    return seen\n",
    "\n",
    "borda_runs = borda(runs)\n",
    "fusion_run(\"fused_borda_run.run\", borda_runs)\n",
    "\n",
    "print_results(\"fused_borda_run.run\")"
   ]
  },
  {
   "cell_type": "code",
   "execution_count": 19,
   "id": "0a424fa5",
   "metadata": {},
   "outputs": [
    {
     "name": "stdout",
     "output_type": "stream",
     "text": [
      "map                      all     0.3864\n",
      "recip_rank               all     0.8127\n",
      "ndcg_cut_10              all     0.4812\n",
      "recall_1000              all     0.7729\n"
     ]
    }
   ],
   "source": [
    "def combsum(runs):\n",
    "    seen = {}\n",
    "    for run in runs:\n",
    "        for topic, results in run.items():\n",
    "            if topic not in seen:\n",
    "                seen[topic] = {}\n",
    "            for docid, score in results.items():\n",
    "                #TODO fill in the gap.\n",
    "                if docid not in seen[topic]:\n",
    "                    seen[topic][docid] = score\n",
    "                else:\n",
    "                    seen[topic][docid] += score        \n",
    "    return seen\n",
    "\n",
    "\n",
    "combsum_run = combsum(runs)\n",
    "fusion_run(\"fused_combsum_run.run\", combsum_run)\n",
    "\n",
    "print_results(\"fused_combsum_run.run\")"
   ]
  },
  {
   "cell_type": "code",
   "execution_count": 20,
   "id": "52a2690d",
   "metadata": {},
   "outputs": [
    {
     "name": "stdout",
     "output_type": "stream",
     "text": [
      "map                      all     0.3846\n",
      "recip_rank               all     0.8127\n",
      "ndcg_cut_10              all     0.4812\n",
      "recall_1000              all     0.7697\n"
     ]
    }
   ],
   "source": [
    "def combmnz(runs):\n",
    "    seen = {}\n",
    "    num = {}\n",
    "    for run in runs:\n",
    "        count = []\n",
    "        for topic, results in run.items():\n",
    "            if topic not in seen:\n",
    "                seen[topic] = {}\n",
    "            for docid, score in results.items():\n",
    "                if docid not in count:\n",
    "                    count.append(docid)\n",
    "                if docid not in seen[topic]:\n",
    "                    seen[topic][docid] = score\n",
    "                else:\n",
    "                    seen[topic][docid] += score\n",
    "        for docid in count:\n",
    "            if docid not in num:\n",
    "                num[docid] = 1\n",
    "            else:\n",
    "                num[docid] += 1    \n",
    "    for topic in seen:\n",
    "        for docid in seen[topic]:\n",
    "            seen[topic][docid] *= num[docid]\n",
    "    \n",
    "    return seen\n",
    "        \n",
    "combmnz_run = combmnz(runs)\n",
    "fusion_run(\"fused_combmnz_run.run\", combmnz_run)\n",
    "\n",
    "print_results(\"fused_combmnz_run.run\")"
   ]
  },
  {
   "cell_type": "markdown",
   "id": "7af86c1d",
   "metadata": {},
   "source": [
    "When you have described and provided implementations for each method, include a table with statistical analysis here. \n",
    "\n",
    "For convenience, you can use tools like this one to make it easier: https://www.tablesgenerator.com/markdown_tables, or if you are using pandas, you can convert dataframes to markdown https://pandas.pydata.org/pandas-docs/stable/reference/api/pandas.DataFrame.to_markdown.html\n"
   ]
  },
  {
   "cell_type": "markdown",
   "id": "7b2ef5cd",
   "metadata": {},
   "source": [
    "| run_name      \t| map    \t| recip_rank \t| ndcg_cut_10 \t| recall_1000 \t|\n",
    "|---------------\t|--------\t|------------\t|-------------\t|-------------\t|\n",
    "| bm25          \t| 0.3434 \t| 0.7710     \t| 0.4520      \t| 0.7264      \t|\n",
    "| prf_expansion \t| 0.3195 \t| 0.7008     \t| 0.4117      \t| 0.7591      \t|\n",
    "| reduction     \t| 0.3412 \t| 0.7239     \t| 0.4387      \t| 0.7208      \t|\n",
    "| borda         \t| 0.3873 \t| 0.7910     \t| 0.4858      \t| 0.7717      \t|\n",
    "| combsum       \t| 0.3864 \t| 0.8127     \t| 0.4812      \t| 0.7729      \t|\n",
    "| combmnz       \t| 0.3846 \t| 0.8127     \t| 0.4812      \t| 0.7697      \t|"
   ]
  },
  {
   "cell_type": "code",
   "execution_count": 21,
   "id": "ee6089a0",
   "metadata": {},
   "outputs": [
    {
     "name": "stdout",
     "output_type": "stream",
     "text": [
      "Ttest_relResult(statistic=-1.9053769654791561, pvalue=0.06359217541623412)\n",
      "Ttest_relResult(statistic=-2.5981882126302795, pvalue=0.012870338499574726)\n",
      "Ttest_relResult(statistic=-2.916930523971923, pvalue=0.00565352983207736)\n",
      "Ttest_relResult(statistic=0.5202326381755842, pvalue=0.6056330523584271)\n",
      "Ttest_relResult(statistic=-0.32889168950157704, pvalue=0.7438719501173173)\n"
     ]
    }
   ],
   "source": [
    "# statistical significance\n",
    "\n",
    "import scipy.stats\n",
    "\n",
    "\n",
    "\n",
    "with open(\"qrel.txt\", \"r\") as f:\n",
    "    msmarco_qrels = pytrec_eval.parse_qrel(f)\n",
    "\n",
    "evaluator = pytrec_eval.RelevanceEvaluator(query_relevance=msmarco_qrels, measures=[\"map\", \"ndcg\", \"ndcg_cut\"])\n",
    "\n",
    "with open(\"project_bm25.run\", \"r\") as f:\n",
    "    bm25 = pytrec_eval.parse_run(f)\n",
    "with open(\"project_prf_exp.run\", \"r\") as f:\n",
    "    prf_exp = pytrec_eval.parse_run(f)\n",
    "with open(\"project_idfr_redu.run\", \"r\") as f:\n",
    "    idfr_redu = pytrec_eval.parse_run(f)\n",
    "with open(\"fused_borda_run.run\", \"r\") as f:\n",
    "    borda = pytrec_eval.parse_run(f)\n",
    "with open(\"fused_combsum_run.run\", \"r\") as f:\n",
    "    combsum = pytrec_eval.parse_run(f)\n",
    "with open(\"fused_combmnz_run.run\", \"r\") as f:\n",
    "    combmnz = pytrec_eval.parse_run(f)\n",
    "\n",
    "bm25_results = evaluator.evaluate(bm25)\n",
    "prf_exp_results = evaluator.evaluate(prf_exp)\n",
    "idfr_redu_results = evaluator.evaluate(idfr_redu)\n",
    "borda_results = evaluator.evaluate(borda)\n",
    "combsum_results = evaluator.evaluate(combsum)\n",
    "combmnz_results = evaluator.evaluate(combmnz)\n",
    "\n",
    "# calculate statistic significance of each method with respect to combmnz as it achieved a relative high score\n",
    "\n",
    "query_ids = list(\n",
    "    set(bm25_results.keys()) & set(combmnz_results.keys()))\n",
    "bm25_scores = [\n",
    "    bm25_results[query_id][\"ndcg_cut_10\"] for query_id in query_ids]\n",
    "combmnz_scores = [\n",
    "    combmnz_results[query_id][\"ndcg_cut_10\"] for query_id in query_ids]\n",
    "\n",
    "print(scipy.stats.ttest_rel(bm25_scores, combmnz_scores))\n",
    "\n",
    "query_ids = list(\n",
    "    set(prf_exp_results.keys()) & set(combmnz_results.keys()))\n",
    "prf_exp_scores = [\n",
    "    prf_exp_results[query_id][\"ndcg_cut_10\"] for query_id in query_ids]\n",
    "combmnz_scores = [\n",
    "    combmnz_results[query_id][\"ndcg_cut_10\"] for query_id in query_ids]\n",
    "\n",
    "print(scipy.stats.ttest_rel(prf_exp_scores, combmnz_scores))\n",
    "\n",
    "query_ids = list(\n",
    "    set(idfr_redu_results.keys()) & set(combmnz_results.keys()))\n",
    "idfr_redu_scores = [\n",
    "    idfr_redu_results[query_id][\"ndcg_cut_10\"] for query_id in query_ids]\n",
    "combmnz_scores = [\n",
    "    combmnz_results[query_id][\"ndcg_cut_10\"] for query_id in query_ids]\n",
    "\n",
    "print(scipy.stats.ttest_rel(idfr_redu_scores, combmnz_scores))\n",
    "\n",
    "query_ids = list(\n",
    "    set(borda_results.keys()) & set(combmnz_results.keys()))\n",
    "borda_scores = [\n",
    "    borda_results[query_id][\"ndcg_cut_10\"] for query_id in query_ids]\n",
    "combmnz_scores = [\n",
    "    combmnz_results[query_id][\"ndcg_cut_10\"] for query_id in query_ids]\n",
    "\n",
    "print(scipy.stats.ttest_rel(borda_scores, combmnz_scores))\n",
    "\n",
    "query_ids = list(\n",
    "    set(combsum_results.keys()) & set(combmnz_results.keys()))\n",
    "combsum_scores = [\n",
    "    combsum_results[query_id][\"ndcg_cut_100\"] for query_id in query_ids]\n",
    "combmnz_scores = [\n",
    "    combmnz_results[query_id][\"ndcg_cut_100\"] for query_id in query_ids]\n",
    "\n",
    "print(scipy.stats.ttest_rel(combsum_scores, combmnz_scores))\n"
   ]
  },
  {
   "cell_type": "markdown",
   "id": "168ddded",
   "metadata": {},
   "source": [
    "Results in table are with respect to combmnz_run"
   ]
  },
  {
   "cell_type": "markdown",
   "id": "7b1064f8",
   "metadata": {},
   "source": [
    "|     Methods    \t|       statistic      \t|        pvalue        \t|\n",
    "|:--------------:\t|:--------------------:\t|:--------------------:\t|\n",
    "|      bm25      \t|  -1.9053769654791561 \t|  0.06359217541623412 \t|\n",
    "|     prf_exp    \t|  -2.5981882126302795 \t| 0.012870338499574726 \t|\n",
    "| idfr_reduction \t|  -2.9169305239719234 \t| 0.005653529832077361 \t|\n",
    "|      borda     \t|  0.5202326381755842  \t|  0.6056330523584271  \t|\n",
    "|     combsum    \t| -0.32889168950157704 \t|  0.7438719501173173  \t|"
   ]
  },
  {
   "cell_type": "markdown",
   "id": "b74e6954",
   "metadata": {},
   "source": [
    "# Evaluate the results from methods implemented above\n",
    "\n",
    "The measurements tables show that:\n",
    "\n",
    "Comparing using only bm25, prf-xpansion tends to have better result on \"recall_1000\", which suggests\n",
    "that by adding relevant terms to the query will help finding more potentially relevant\n",
    "documents, but get a loss in \"map\" and \"ndcg_cut_10\". \n",
    "\n",
    "Applying idfr_query_reduction to limit the length of each query results in approximately fixed\n",
    "running time on each query, but considering some terms are removed, it naturally deceased on\n",
    "some measurements.\n",
    "\n",
    "By applying rank fusion, which kind of combine results from three method above in different way,\n",
    "the results are increased a lot. By calculating statistical significance I can see that using\n",
    "fusion rank has made strong evidence of statistical significance(especially comparing with prf_exp\n",
    "and idfr_reducton, p-value are less or equal than 0.01 approximately)\n",
    "\n",
    "But between each fusion rank, the statistic significance values between each other are quite high,\n",
    "for example, the combsum and combmnz are having quite similar ranking function structures, thus the\n",
    "p-value of combmnz with respect to combsum is quite high(0.74)\n",
    "\n",
    "\n",
    "\n",
    "\n",
    "\n"
   ]
  },
  {
   "cell_type": "code",
   "execution_count": 22,
   "id": "2a7eccc1",
   "metadata": {},
   "outputs": [
    {
     "data": {
      "image/png": "[encoded data removed]",
      "text/plain": [
       "<Figure size 432x288 with 1 Axes>"
      ]
     },
     "metadata": {
      "needs_background": "light"
     },
     "output_type": "display_data"
    },
    {
     "data": {
      "image/png": "[encoded data removed]",
      "text/plain": [
       "<Figure size 432x288 with 1 Axes>"
      ]
     },
     "metadata": {
      "needs_background": "light"
     },
     "output_type": "display_data"
    },
    {
     "data": {
      "image/png": "[encoded data removed]",
      "text/plain": [
       "<Figure size 432x288 with 1 Axes>"
      ]
     },
     "metadata": {
      "needs_background": "light"
     },
     "output_type": "display_data"
    },
    {
     "data": {
      "image/png": "[encoded data removed]",
      "text/plain": [
       "<Figure size 432x288 with 1 Axes>"
      ]
     },
     "metadata": {
      "needs_background": "light"
     },
     "output_type": "display_data"
    }
   ],
   "source": [
    "# Put your implementations for the gain-loss plots here.\n",
    "import matplotlib.pyplot as plt\n",
    "import numpy as np\n",
    "\n",
    "measure = \"ndcg_cut_10\"\n",
    "title = \"gains/losses in ndcg_cut_10 between bm25 and prf_exp\"\n",
    "\n",
    "#r = dict([(key, value[measure]) for key, value in bm25_results.items()])\n",
    "\n",
    "r1 = dict([(key, value[measure]) for key, value in bm25_results.items()])\n",
    "r2 = dict([(key, value[measure]) for key, value in prf_exp_results.items()])\n",
    "ind = np.arange(len(r1))\n",
    "\n",
    "plt.bar(ind, np.subtract(list(r2.values()), list(r1.values())))\n",
    "plt.xticks(ind, list(r1.keys()), rotation=\"vertical\")\n",
    "plt.ylim(-1, 1)\n",
    "plt.title(title)\n",
    "plt.ylabel(measure)\n",
    "plt.xlabel(\"topics\")\n",
    "plt.tight_layout()\n",
    "plt.show()\n",
    "\n",
    "\n",
    "title = \"gains/losses in ndcg_cut_10 between bm25 and borda\"\n",
    "\n",
    "r1 = dict([(key, value[measure]) for key, value in bm25_results.items()])\n",
    "r2 = dict([(key, value[measure]) for key, value in borda_results.items()])\n",
    "ind = np.arange(len(r1))\n",
    "\n",
    "plt.bar(ind, np.subtract(list(r2.values()), list(r1.values())))\n",
    "plt.xticks(ind, list(r1.keys()), rotation=\"vertical\")\n",
    "plt.ylim(-1, 1)\n",
    "plt.title(title)\n",
    "plt.ylabel(measure)\n",
    "plt.xlabel(\"topics\")\n",
    "plt.tight_layout()\n",
    "plt.show()\n",
    "\n",
    "title = \"gains/losses in ndcg_cut_10 between bm25 and combsum\"\n",
    "\n",
    "r1 = dict([(key, value[measure]) for key, value in bm25_results.items()])\n",
    "r2 = dict([(key, value[measure]) for key, value in combsum_results.items()])\n",
    "ind = np.arange(len(r1))\n",
    "\n",
    "plt.bar(ind, np.subtract(list(r2.values()), list(r1.values())))\n",
    "plt.xticks(ind, list(r1.keys()), rotation=\"vertical\")\n",
    "plt.ylim(-1, 1)\n",
    "plt.title(title)\n",
    "plt.ylabel(measure)\n",
    "plt.xlabel(\"topics\")\n",
    "plt.tight_layout()\n",
    "plt.show()\n",
    "\n",
    "title = \"gains/losses in map between bm25 and combmnz\"\n",
    "\n",
    "r1 = dict([(key, value[measure]) for key, value in bm25_results.items()])\n",
    "r2 = dict([(key, value[measure]) for key, value in combmnz_results.items()])\n",
    "ind = np.arange(len(r1))\n",
    "\n",
    "plt.bar(ind, np.subtract(list(r2.values()), list(r1.values())))\n",
    "plt.xticks(ind, list(r1.keys()), rotation=\"vertical\")\n",
    "plt.ylim(-1, 1)\n",
    "plt.title(title)\n",
    "plt.ylabel(measure)\n",
    "plt.xlabel(\"topics\")\n",
    "plt.tight_layout()\n",
    "plt.show()\n"
   ]
  },
  {
   "cell_type": "markdown",
   "id": "55d08116",
   "metadata": {},
   "source": [
    "test_queries measurements:\n",
    "\n",
    "bm25: 0.2572\t0.5948\t0.4538\t0.7732\n",
    "(significantly decreased on map recip_rank)\n",
    "\n",
    "borda:0.257\t    0.5677\t0.4644\t0.8201\n",
    "(significantly decreased on map recip_rank)\n",
    "\n",
    "mnz:  0.2664\t0.6125\t0.469\t0.8217\n",
    "(significantly decreased on map recip_rank)"
   ]
  },
  {
   "cell_type": "markdown",
   "id": "b9ea1b43",
   "metadata": {},
   "source": [
    "After evaluating the run files generated by \"test_queries.tsv\", comparing\n",
    "to there is a significant fall on each measurement, like map, recip_rank.\n",
    "Hence, it can be concluded that the parameter tuning and method testing on\n",
    "the training data might not perform well on testing data. That is, keeping\n",
    "training on the queries.tsv might cause overfitting. To get over it, one of\n",
    "many methods is probably doing cross validation? By dividing the training \n",
    "set into several parts and do the parameter tuning for each of them to get\n",
    "a rather \"neutral\" selection for parameters. \n"
   ]
  },
  {
   "cell_type": "markdown",
   "id": "56613886",
   "metadata": {},
   "source": [
    "Yes, fusion rank works as three method all improved the measurements by a large extent.\n",
    "As the gain/loss plot indicates, three methods(like prf_expansion) kind of have their\n",
    "own advantages but also the disadvantages due to the expansion or reduction of queries.\n",
    "Ranking results from them can be biased sometime.\n",
    "\n",
    "By applying fusion rank, we can combine the results of individual method, according to\n",
    "the ttest table above, results of fusion rank provides significant improvements to the\n",
    "ranking. Also, the gain/loss plot shows that using fusion rank helps with reducing loss\n",
    "(problem prf_expansion owns), shaping the plot more \"stable\"."
   ]
  }
 ],
 "metadata": {
  "kernelspec": {
   "display_name": "Python 3",
   "language": "python",
   "name": "python3"
  },
  "language_info": {
   "codemirror_mode": {
    "name": "ipython",
    "version": 3
   },
   "file_extension": ".py",
   "mimetype": "text/x-python",
   "name": "python",
   "nbconvert_exporter": "python",
   "pygments_lexer": "ipython3",
   "version": "3.7.10"
  }
 },
 "nbformat": 4,
 "nbformat_minor": 5
}
